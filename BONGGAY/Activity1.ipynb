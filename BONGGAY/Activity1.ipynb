{
 "cells": [
  {
   "cell_type": "markdown",
   "id": "699c3a8c-006e-4a79-bfa3-42bc8984252e",
   "metadata": {},
   "source": [
    "<h1>ACTIVITY: PALMER PENGUINS DATA ANALYTICS</h1> \n",
    "<hr>\n",
    "<h2>Analyst: John Allen Bonggay</h2>"
   ]
  },
  {
   "cell_type": "code",
   "execution_count": 13,
   "id": "2e7042a3-cac0-40df-a8bd-5d62e06cc014",
   "metadata": {},
   "outputs": [],
   "source": [
    "#libraries"
   ]
  },
  {
   "cell_type": "code",
   "execution_count": 14,
   "id": "eb58364f-8c67-45aa-9fa7-14bfa314073a",
   "metadata": {},
   "outputs": [],
   "source": [
    "import numpy as np\n",
    "import pandas as pd\n",
    "from scipy.stats import f_oneway\n",
    "import warnings\n",
    "warnings.filterwarnings('ignore')"
   ]
  },
  {
   "cell_type": "code",
   "execution_count": 15,
   "id": "0569d309-098b-4749-bf50-602a9bb63ccc",
   "metadata": {},
   "outputs": [],
   "source": [
    "birds = pd.read_csv('Datasets\\\\penguins.csv')"
   ]
  },
  {
   "cell_type": "code",
   "execution_count": 16,
   "id": "2ad29cd3-a28c-4f48-a48f-94255f1a9ef1",
   "metadata": {},
   "outputs": [
    {
     "data": {
      "text/html": [
       "<div>\n",
       "<style scoped>\n",
       "    .dataframe tbody tr th:only-of-type {\n",
       "        vertical-align: middle;\n",
       "    }\n",
       "\n",
       "    .dataframe tbody tr th {\n",
       "        vertical-align: top;\n",
       "    }\n",
       "\n",
       "    .dataframe thead th {\n",
       "        text-align: right;\n",
       "    }\n",
       "</style>\n",
       "<table border=\"1\" class=\"dataframe\">\n",
       "  <thead>\n",
       "    <tr style=\"text-align: right;\">\n",
       "      <th></th>\n",
       "      <th>species</th>\n",
       "      <th>island</th>\n",
       "      <th>bill_length_mm</th>\n",
       "      <th>bill_depth_mm</th>\n",
       "      <th>flipper_length_mm</th>\n",
       "      <th>body_mass_g</th>\n",
       "      <th>sex</th>\n",
       "      <th>year</th>\n",
       "    </tr>\n",
       "  </thead>\n",
       "  <tbody>\n",
       "    <tr>\n",
       "      <th>0</th>\n",
       "      <td>Adelie</td>\n",
       "      <td>Torgersen</td>\n",
       "      <td>39.1</td>\n",
       "      <td>18.7</td>\n",
       "      <td>181.0</td>\n",
       "      <td>3750.0</td>\n",
       "      <td>male</td>\n",
       "      <td>2007</td>\n",
       "    </tr>\n",
       "    <tr>\n",
       "      <th>1</th>\n",
       "      <td>Adelie</td>\n",
       "      <td>Torgersen</td>\n",
       "      <td>39.5</td>\n",
       "      <td>17.4</td>\n",
       "      <td>186.0</td>\n",
       "      <td>3800.0</td>\n",
       "      <td>female</td>\n",
       "      <td>2007</td>\n",
       "    </tr>\n",
       "    <tr>\n",
       "      <th>2</th>\n",
       "      <td>Adelie</td>\n",
       "      <td>Torgersen</td>\n",
       "      <td>40.3</td>\n",
       "      <td>18.0</td>\n",
       "      <td>195.0</td>\n",
       "      <td>3250.0</td>\n",
       "      <td>female</td>\n",
       "      <td>2007</td>\n",
       "    </tr>\n",
       "    <tr>\n",
       "      <th>3</th>\n",
       "      <td>Adelie</td>\n",
       "      <td>Torgersen</td>\n",
       "      <td>NaN</td>\n",
       "      <td>NaN</td>\n",
       "      <td>NaN</td>\n",
       "      <td>NaN</td>\n",
       "      <td>NaN</td>\n",
       "      <td>2007</td>\n",
       "    </tr>\n",
       "    <tr>\n",
       "      <th>4</th>\n",
       "      <td>Adelie</td>\n",
       "      <td>Torgersen</td>\n",
       "      <td>36.7</td>\n",
       "      <td>19.3</td>\n",
       "      <td>193.0</td>\n",
       "      <td>3450.0</td>\n",
       "      <td>female</td>\n",
       "      <td>2007</td>\n",
       "    </tr>\n",
       "    <tr>\n",
       "      <th>...</th>\n",
       "      <td>...</td>\n",
       "      <td>...</td>\n",
       "      <td>...</td>\n",
       "      <td>...</td>\n",
       "      <td>...</td>\n",
       "      <td>...</td>\n",
       "      <td>...</td>\n",
       "      <td>...</td>\n",
       "    </tr>\n",
       "    <tr>\n",
       "      <th>339</th>\n",
       "      <td>Chinstrap</td>\n",
       "      <td>Dream</td>\n",
       "      <td>55.8</td>\n",
       "      <td>19.8</td>\n",
       "      <td>207.0</td>\n",
       "      <td>4000.0</td>\n",
       "      <td>male</td>\n",
       "      <td>2009</td>\n",
       "    </tr>\n",
       "    <tr>\n",
       "      <th>340</th>\n",
       "      <td>Chinstrap</td>\n",
       "      <td>Dream</td>\n",
       "      <td>43.5</td>\n",
       "      <td>18.1</td>\n",
       "      <td>202.0</td>\n",
       "      <td>3400.0</td>\n",
       "      <td>female</td>\n",
       "      <td>2009</td>\n",
       "    </tr>\n",
       "    <tr>\n",
       "      <th>341</th>\n",
       "      <td>Chinstrap</td>\n",
       "      <td>Dream</td>\n",
       "      <td>49.6</td>\n",
       "      <td>18.2</td>\n",
       "      <td>193.0</td>\n",
       "      <td>3775.0</td>\n",
       "      <td>male</td>\n",
       "      <td>2009</td>\n",
       "    </tr>\n",
       "    <tr>\n",
       "      <th>342</th>\n",
       "      <td>Chinstrap</td>\n",
       "      <td>Dream</td>\n",
       "      <td>50.8</td>\n",
       "      <td>19.0</td>\n",
       "      <td>210.0</td>\n",
       "      <td>4100.0</td>\n",
       "      <td>male</td>\n",
       "      <td>2009</td>\n",
       "    </tr>\n",
       "    <tr>\n",
       "      <th>343</th>\n",
       "      <td>Chinstrap</td>\n",
       "      <td>Dream</td>\n",
       "      <td>50.2</td>\n",
       "      <td>18.7</td>\n",
       "      <td>198.0</td>\n",
       "      <td>3775.0</td>\n",
       "      <td>female</td>\n",
       "      <td>2009</td>\n",
       "    </tr>\n",
       "  </tbody>\n",
       "</table>\n",
       "<p>344 rows × 8 columns</p>\n",
       "</div>"
      ],
      "text/plain": [
       "       species     island  bill_length_mm  bill_depth_mm  flipper_length_mm  \\\n",
       "0       Adelie  Torgersen            39.1           18.7              181.0   \n",
       "1       Adelie  Torgersen            39.5           17.4              186.0   \n",
       "2       Adelie  Torgersen            40.3           18.0              195.0   \n",
       "3       Adelie  Torgersen             NaN            NaN                NaN   \n",
       "4       Adelie  Torgersen            36.7           19.3              193.0   \n",
       "..         ...        ...             ...            ...                ...   \n",
       "339  Chinstrap      Dream            55.8           19.8              207.0   \n",
       "340  Chinstrap      Dream            43.5           18.1              202.0   \n",
       "341  Chinstrap      Dream            49.6           18.2              193.0   \n",
       "342  Chinstrap      Dream            50.8           19.0              210.0   \n",
       "343  Chinstrap      Dream            50.2           18.7              198.0   \n",
       "\n",
       "     body_mass_g     sex  year  \n",
       "0         3750.0    male  2007  \n",
       "1         3800.0  female  2007  \n",
       "2         3250.0  female  2007  \n",
       "3            NaN     NaN  2007  \n",
       "4         3450.0  female  2007  \n",
       "..           ...     ...   ...  \n",
       "339       4000.0    male  2009  \n",
       "340       3400.0  female  2009  \n",
       "341       3775.0    male  2009  \n",
       "342       4100.0    male  2009  \n",
       "343       3775.0  female  2009  \n",
       "\n",
       "[344 rows x 8 columns]"
      ]
     },
     "execution_count": 16,
     "metadata": {},
     "output_type": "execute_result"
    }
   ],
   "source": [
    "birds"
   ]
  },
  {
   "cell_type": "markdown",
   "id": "0bb37362-8d4a-4c4f-a302-233d2e05709a",
   "metadata": {},
   "source": [
    "<h1>Descriptive Analytics</h1>"
   ]
  },
  {
   "cell_type": "code",
   "execution_count": 17,
   "id": "3b9f4f0a-4355-422b-a62f-c9d82c38847c",
   "metadata": {},
   "outputs": [
    {
     "data": {
      "text/html": [
       "<div>\n",
       "<style scoped>\n",
       "    .dataframe tbody tr th:only-of-type {\n",
       "        vertical-align: middle;\n",
       "    }\n",
       "\n",
       "    .dataframe tbody tr th {\n",
       "        vertical-align: top;\n",
       "    }\n",
       "\n",
       "    .dataframe thead th {\n",
       "        text-align: right;\n",
       "    }\n",
       "</style>\n",
       "<table border=\"1\" class=\"dataframe\">\n",
       "  <thead>\n",
       "    <tr style=\"text-align: right;\">\n",
       "      <th></th>\n",
       "      <th>bill_length_mm</th>\n",
       "      <th>bill_depth_mm</th>\n",
       "      <th>flipper_length_mm</th>\n",
       "      <th>body_mass_g</th>\n",
       "      <th>year</th>\n",
       "    </tr>\n",
       "  </thead>\n",
       "  <tbody>\n",
       "    <tr>\n",
       "      <th>count</th>\n",
       "      <td>342.000000</td>\n",
       "      <td>342.000000</td>\n",
       "      <td>342.000000</td>\n",
       "      <td>342.000000</td>\n",
       "      <td>344.000000</td>\n",
       "    </tr>\n",
       "    <tr>\n",
       "      <th>mean</th>\n",
       "      <td>43.921930</td>\n",
       "      <td>17.151170</td>\n",
       "      <td>200.915205</td>\n",
       "      <td>4201.754386</td>\n",
       "      <td>2008.029070</td>\n",
       "    </tr>\n",
       "    <tr>\n",
       "      <th>std</th>\n",
       "      <td>5.459584</td>\n",
       "      <td>1.974793</td>\n",
       "      <td>14.061714</td>\n",
       "      <td>801.954536</td>\n",
       "      <td>0.818356</td>\n",
       "    </tr>\n",
       "    <tr>\n",
       "      <th>min</th>\n",
       "      <td>32.100000</td>\n",
       "      <td>13.100000</td>\n",
       "      <td>172.000000</td>\n",
       "      <td>2700.000000</td>\n",
       "      <td>2007.000000</td>\n",
       "    </tr>\n",
       "    <tr>\n",
       "      <th>25%</th>\n",
       "      <td>39.225000</td>\n",
       "      <td>15.600000</td>\n",
       "      <td>190.000000</td>\n",
       "      <td>3550.000000</td>\n",
       "      <td>2007.000000</td>\n",
       "    </tr>\n",
       "    <tr>\n",
       "      <th>50%</th>\n",
       "      <td>44.450000</td>\n",
       "      <td>17.300000</td>\n",
       "      <td>197.000000</td>\n",
       "      <td>4050.000000</td>\n",
       "      <td>2008.000000</td>\n",
       "    </tr>\n",
       "    <tr>\n",
       "      <th>75%</th>\n",
       "      <td>48.500000</td>\n",
       "      <td>18.700000</td>\n",
       "      <td>213.000000</td>\n",
       "      <td>4750.000000</td>\n",
       "      <td>2009.000000</td>\n",
       "    </tr>\n",
       "    <tr>\n",
       "      <th>max</th>\n",
       "      <td>59.600000</td>\n",
       "      <td>21.500000</td>\n",
       "      <td>231.000000</td>\n",
       "      <td>6300.000000</td>\n",
       "      <td>2009.000000</td>\n",
       "    </tr>\n",
       "  </tbody>\n",
       "</table>\n",
       "</div>"
      ],
      "text/plain": [
       "       bill_length_mm  bill_depth_mm  flipper_length_mm  body_mass_g  \\\n",
       "count      342.000000     342.000000         342.000000   342.000000   \n",
       "mean        43.921930      17.151170         200.915205  4201.754386   \n",
       "std          5.459584       1.974793          14.061714   801.954536   \n",
       "min         32.100000      13.100000         172.000000  2700.000000   \n",
       "25%         39.225000      15.600000         190.000000  3550.000000   \n",
       "50%         44.450000      17.300000         197.000000  4050.000000   \n",
       "75%         48.500000      18.700000         213.000000  4750.000000   \n",
       "max         59.600000      21.500000         231.000000  6300.000000   \n",
       "\n",
       "              year  \n",
       "count   344.000000  \n",
       "mean   2008.029070  \n",
       "std       0.818356  \n",
       "min    2007.000000  \n",
       "25%    2007.000000  \n",
       "50%    2008.000000  \n",
       "75%    2009.000000  \n",
       "max    2009.000000  "
      ]
     },
     "execution_count": 17,
     "metadata": {},
     "output_type": "execute_result"
    }
   ],
   "source": [
    "birds.describe()"
   ]
  },
  {
   "cell_type": "code",
   "execution_count": 18,
   "id": "eee1bea3-147c-4055-b69d-49626dc26482",
   "metadata": {},
   "outputs": [
    {
     "data": {
      "text/html": [
       "<div>\n",
       "<style scoped>\n",
       "    .dataframe tbody tr th:only-of-type {\n",
       "        vertical-align: middle;\n",
       "    }\n",
       "\n",
       "    .dataframe tbody tr th {\n",
       "        vertical-align: top;\n",
       "    }\n",
       "\n",
       "    .dataframe thead th {\n",
       "        text-align: right;\n",
       "    }\n",
       "</style>\n",
       "<table border=\"1\" class=\"dataframe\">\n",
       "  <thead>\n",
       "    <tr style=\"text-align: right;\">\n",
       "      <th></th>\n",
       "      <th>count</th>\n",
       "      <th>mean</th>\n",
       "      <th>std</th>\n",
       "      <th>min</th>\n",
       "      <th>25%</th>\n",
       "      <th>50%</th>\n",
       "      <th>75%</th>\n",
       "      <th>max</th>\n",
       "    </tr>\n",
       "  </thead>\n",
       "  <tbody>\n",
       "    <tr>\n",
       "      <th>bill_length_mm</th>\n",
       "      <td>342.0</td>\n",
       "      <td>43.921930</td>\n",
       "      <td>5.459584</td>\n",
       "      <td>32.1</td>\n",
       "      <td>39.225</td>\n",
       "      <td>44.45</td>\n",
       "      <td>48.5</td>\n",
       "      <td>59.6</td>\n",
       "    </tr>\n",
       "    <tr>\n",
       "      <th>bill_depth_mm</th>\n",
       "      <td>342.0</td>\n",
       "      <td>17.151170</td>\n",
       "      <td>1.974793</td>\n",
       "      <td>13.1</td>\n",
       "      <td>15.600</td>\n",
       "      <td>17.30</td>\n",
       "      <td>18.7</td>\n",
       "      <td>21.5</td>\n",
       "    </tr>\n",
       "    <tr>\n",
       "      <th>flipper_length_mm</th>\n",
       "      <td>342.0</td>\n",
       "      <td>200.915205</td>\n",
       "      <td>14.061714</td>\n",
       "      <td>172.0</td>\n",
       "      <td>190.000</td>\n",
       "      <td>197.00</td>\n",
       "      <td>213.0</td>\n",
       "      <td>231.0</td>\n",
       "    </tr>\n",
       "    <tr>\n",
       "      <th>body_mass_g</th>\n",
       "      <td>342.0</td>\n",
       "      <td>4201.754386</td>\n",
       "      <td>801.954536</td>\n",
       "      <td>2700.0</td>\n",
       "      <td>3550.000</td>\n",
       "      <td>4050.00</td>\n",
       "      <td>4750.0</td>\n",
       "      <td>6300.0</td>\n",
       "    </tr>\n",
       "    <tr>\n",
       "      <th>year</th>\n",
       "      <td>344.0</td>\n",
       "      <td>2008.029070</td>\n",
       "      <td>0.818356</td>\n",
       "      <td>2007.0</td>\n",
       "      <td>2007.000</td>\n",
       "      <td>2008.00</td>\n",
       "      <td>2009.0</td>\n",
       "      <td>2009.0</td>\n",
       "    </tr>\n",
       "  </tbody>\n",
       "</table>\n",
       "</div>"
      ],
      "text/plain": [
       "                   count         mean         std     min       25%      50%  \\\n",
       "bill_length_mm     342.0    43.921930    5.459584    32.1    39.225    44.45   \n",
       "bill_depth_mm      342.0    17.151170    1.974793    13.1    15.600    17.30   \n",
       "flipper_length_mm  342.0   200.915205   14.061714   172.0   190.000   197.00   \n",
       "body_mass_g        342.0  4201.754386  801.954536  2700.0  3550.000  4050.00   \n",
       "year               344.0  2008.029070    0.818356  2007.0  2007.000  2008.00   \n",
       "\n",
       "                      75%     max  \n",
       "bill_length_mm       48.5    59.6  \n",
       "bill_depth_mm        18.7    21.5  \n",
       "flipper_length_mm   213.0   231.0  \n",
       "body_mass_g        4750.0  6300.0  \n",
       "year               2009.0  2009.0  "
      ]
     },
     "execution_count": 18,
     "metadata": {},
     "output_type": "execute_result"
    }
   ],
   "source": [
    "birds.describe().T"
   ]
  },
  {
   "cell_type": "markdown",
   "id": "9d3e6c7c-40da-4788-be58-b2db86037679",
   "metadata": {},
   "source": [
    "<h1>Filtering Data</h1>"
   ]
  },
  {
   "cell_type": "code",
   "execution_count": 19,
   "id": "35f3afa0-27ce-4146-b462-20473ccd9d99",
   "metadata": {},
   "outputs": [
    {
     "data": {
      "text/plain": [
       "0       True\n",
       "1       True\n",
       "2       True\n",
       "3       True\n",
       "4       True\n",
       "       ...  \n",
       "339    False\n",
       "340    False\n",
       "341    False\n",
       "342    False\n",
       "343    False\n",
       "Name: island, Length: 344, dtype: bool"
      ]
     },
     "execution_count": 19,
     "metadata": {},
     "output_type": "execute_result"
    }
   ],
   "source": [
    "birds['island'] == 'Torgersen'"
   ]
  },
  {
   "cell_type": "code",
   "execution_count": 20,
   "id": "4a490534-e14f-46b3-bacf-d881a5fc7752",
   "metadata": {},
   "outputs": [],
   "source": [
    "Torgersen_island = birds[birds['island'] == 'Torgersen']"
   ]
  },
  {
   "cell_type": "code",
   "execution_count": null,
   "id": "00bbf389-361d-4dd6-9389-0c4ef59a5f63",
   "metadata": {},
   "outputs": [],
   "source": []
  },
  {
   "cell_type": "code",
   "execution_count": null,
   "id": "db69cc95-9588-4589-9e1f-c148583d3a16",
   "metadata": {},
   "outputs": [],
   "source": []
  },
  {
   "cell_type": "code",
   "execution_count": 21,
   "id": "e8e52e2c-1492-4d9d-b337-ea6ceddb9c2e",
   "metadata": {},
   "outputs": [
    {
     "data": {
      "text/plain": [
       "island\n",
       "Biscoe       168\n",
       "Dream        124\n",
       "Torgersen     52\n",
       "Name: count, dtype: int64"
      ]
     },
     "execution_count": 21,
     "metadata": {},
     "output_type": "execute_result"
    }
   ],
   "source": [
    "birds['island'].value_counts()"
   ]
  },
  {
   "cell_type": "code",
   "execution_count": 22,
   "id": "75618df5-c061-4926-8bab-b8ffae15ac34",
   "metadata": {},
   "outputs": [
    {
     "data": {
      "text/plain": [
       "0       True\n",
       "1       True\n",
       "2       True\n",
       "3       True\n",
       "4       True\n",
       "       ...  \n",
       "339    False\n",
       "340    False\n",
       "341    False\n",
       "342    False\n",
       "343    False\n",
       "Name: island, Length: 344, dtype: bool"
      ]
     },
     "execution_count": 22,
     "metadata": {},
     "output_type": "execute_result"
    }
   ],
   "source": [
    "birds['island'] == 'Torgersen'"
   ]
  },
  {
   "cell_type": "code",
   "execution_count": 23,
   "id": "65cf2015-7a98-4389-869a-f6469af73fbb",
   "metadata": {},
   "outputs": [
    {
     "data": {
      "text/plain": [
       "np.float64(3706.372549019608)"
      ]
     },
     "execution_count": 23,
     "metadata": {},
     "output_type": "execute_result"
    }
   ],
   "source": [
    "Torgersen_island['body_mass_g'].mean()"
   ]
  },
  {
   "cell_type": "markdown",
   "id": "9ac56863-fd2e-4634-9c2c-c8c3ba65eab8",
   "metadata": {},
   "source": [
    "<h1>Adding Two Datas</h1>"
   ]
  },
  {
   "cell_type": "code",
   "execution_count": 24,
   "id": "3aa8ecf8-bb49-4d0a-823d-68a1ad6cafcc",
   "metadata": {},
   "outputs": [
    {
     "ename": "_IncompleteInputError",
     "evalue": "incomplete input (4081851517.py, line 1)",
     "output_type": "error",
     "traceback": [
      "\u001b[1;36m  Cell \u001b[1;32mIn[24], line 1\u001b[1;36m\u001b[0m\n\u001b[1;33m    birds[birds['sex']<= male & birds[birds['island'] == 'Torgersen']\u001b[0m\n\u001b[1;37m                                                                     ^\u001b[0m\n\u001b[1;31m_IncompleteInputError\u001b[0m\u001b[1;31m:\u001b[0m incomplete input\n"
     ]
    }
   ],
   "source": [
    "birds[birds['sex']<= male & birds[birds['island'] == 'Torgersen']"
   ]
  },
  {
   "cell_type": "markdown",
   "id": "79229bc8-4809-4216-8fea-2464b2348c1e",
   "metadata": {},
   "source": [
    "<h1>Cleaning Data Rows</h1>"
   ]
  },
  {
   "cell_type": "code",
   "execution_count": 25,
   "id": "54745e04-6056-43fb-8182-cb44d10afd51",
   "metadata": {},
   "outputs": [
    {
     "data": {
      "text/html": [
       "<div>\n",
       "<style scoped>\n",
       "    .dataframe tbody tr th:only-of-type {\n",
       "        vertical-align: middle;\n",
       "    }\n",
       "\n",
       "    .dataframe tbody tr th {\n",
       "        vertical-align: top;\n",
       "    }\n",
       "\n",
       "    .dataframe thead th {\n",
       "        text-align: right;\n",
       "    }\n",
       "</style>\n",
       "<table border=\"1\" class=\"dataframe\">\n",
       "  <thead>\n",
       "    <tr style=\"text-align: right;\">\n",
       "      <th></th>\n",
       "      <th>species</th>\n",
       "      <th>island</th>\n",
       "      <th>bill_length_mm</th>\n",
       "      <th>bill_depth_mm</th>\n",
       "      <th>flipper_length_mm</th>\n",
       "      <th>body_mass_g</th>\n",
       "      <th>sex</th>\n",
       "      <th>year</th>\n",
       "    </tr>\n",
       "  </thead>\n",
       "  <tbody>\n",
       "    <tr>\n",
       "      <th>0</th>\n",
       "      <td>False</td>\n",
       "      <td>False</td>\n",
       "      <td>False</td>\n",
       "      <td>False</td>\n",
       "      <td>False</td>\n",
       "      <td>False</td>\n",
       "      <td>False</td>\n",
       "      <td>False</td>\n",
       "    </tr>\n",
       "    <tr>\n",
       "      <th>1</th>\n",
       "      <td>False</td>\n",
       "      <td>False</td>\n",
       "      <td>False</td>\n",
       "      <td>False</td>\n",
       "      <td>False</td>\n",
       "      <td>False</td>\n",
       "      <td>False</td>\n",
       "      <td>False</td>\n",
       "    </tr>\n",
       "    <tr>\n",
       "      <th>2</th>\n",
       "      <td>False</td>\n",
       "      <td>False</td>\n",
       "      <td>False</td>\n",
       "      <td>False</td>\n",
       "      <td>False</td>\n",
       "      <td>False</td>\n",
       "      <td>False</td>\n",
       "      <td>False</td>\n",
       "    </tr>\n",
       "    <tr>\n",
       "      <th>3</th>\n",
       "      <td>False</td>\n",
       "      <td>False</td>\n",
       "      <td>True</td>\n",
       "      <td>True</td>\n",
       "      <td>True</td>\n",
       "      <td>True</td>\n",
       "      <td>True</td>\n",
       "      <td>False</td>\n",
       "    </tr>\n",
       "    <tr>\n",
       "      <th>4</th>\n",
       "      <td>False</td>\n",
       "      <td>False</td>\n",
       "      <td>False</td>\n",
       "      <td>False</td>\n",
       "      <td>False</td>\n",
       "      <td>False</td>\n",
       "      <td>False</td>\n",
       "      <td>False</td>\n",
       "    </tr>\n",
       "    <tr>\n",
       "      <th>...</th>\n",
       "      <td>...</td>\n",
       "      <td>...</td>\n",
       "      <td>...</td>\n",
       "      <td>...</td>\n",
       "      <td>...</td>\n",
       "      <td>...</td>\n",
       "      <td>...</td>\n",
       "      <td>...</td>\n",
       "    </tr>\n",
       "    <tr>\n",
       "      <th>339</th>\n",
       "      <td>False</td>\n",
       "      <td>False</td>\n",
       "      <td>False</td>\n",
       "      <td>False</td>\n",
       "      <td>False</td>\n",
       "      <td>False</td>\n",
       "      <td>False</td>\n",
       "      <td>False</td>\n",
       "    </tr>\n",
       "    <tr>\n",
       "      <th>340</th>\n",
       "      <td>False</td>\n",
       "      <td>False</td>\n",
       "      <td>False</td>\n",
       "      <td>False</td>\n",
       "      <td>False</td>\n",
       "      <td>False</td>\n",
       "      <td>False</td>\n",
       "      <td>False</td>\n",
       "    </tr>\n",
       "    <tr>\n",
       "      <th>341</th>\n",
       "      <td>False</td>\n",
       "      <td>False</td>\n",
       "      <td>False</td>\n",
       "      <td>False</td>\n",
       "      <td>False</td>\n",
       "      <td>False</td>\n",
       "      <td>False</td>\n",
       "      <td>False</td>\n",
       "    </tr>\n",
       "    <tr>\n",
       "      <th>342</th>\n",
       "      <td>False</td>\n",
       "      <td>False</td>\n",
       "      <td>False</td>\n",
       "      <td>False</td>\n",
       "      <td>False</td>\n",
       "      <td>False</td>\n",
       "      <td>False</td>\n",
       "      <td>False</td>\n",
       "    </tr>\n",
       "    <tr>\n",
       "      <th>343</th>\n",
       "      <td>False</td>\n",
       "      <td>False</td>\n",
       "      <td>False</td>\n",
       "      <td>False</td>\n",
       "      <td>False</td>\n",
       "      <td>False</td>\n",
       "      <td>False</td>\n",
       "      <td>False</td>\n",
       "    </tr>\n",
       "  </tbody>\n",
       "</table>\n",
       "<p>344 rows × 8 columns</p>\n",
       "</div>"
      ],
      "text/plain": [
       "     species  island  bill_length_mm  bill_depth_mm  flipper_length_mm  \\\n",
       "0      False   False           False          False              False   \n",
       "1      False   False           False          False              False   \n",
       "2      False   False           False          False              False   \n",
       "3      False   False            True           True               True   \n",
       "4      False   False           False          False              False   \n",
       "..       ...     ...             ...            ...                ...   \n",
       "339    False   False           False          False              False   \n",
       "340    False   False           False          False              False   \n",
       "341    False   False           False          False              False   \n",
       "342    False   False           False          False              False   \n",
       "343    False   False           False          False              False   \n",
       "\n",
       "     body_mass_g    sex   year  \n",
       "0          False  False  False  \n",
       "1          False  False  False  \n",
       "2          False  False  False  \n",
       "3           True   True  False  \n",
       "4          False  False  False  \n",
       "..           ...    ...    ...  \n",
       "339        False  False  False  \n",
       "340        False  False  False  \n",
       "341        False  False  False  \n",
       "342        False  False  False  \n",
       "343        False  False  False  \n",
       "\n",
       "[344 rows x 8 columns]"
      ]
     },
     "execution_count": 25,
     "metadata": {},
     "output_type": "execute_result"
    }
   ],
   "source": [
    "birds.isnull()"
   ]
  },
  {
   "cell_type": "code",
   "execution_count": 26,
   "id": "57384e39-5b70-4722-a8d7-74959198b163",
   "metadata": {},
   "outputs": [
    {
     "data": {
      "text/plain": [
       "species               0\n",
       "island                0\n",
       "bill_length_mm        2\n",
       "bill_depth_mm         2\n",
       "flipper_length_mm     2\n",
       "body_mass_g           2\n",
       "sex                  11\n",
       "year                  0\n",
       "dtype: int64"
      ]
     },
     "execution_count": 26,
     "metadata": {},
     "output_type": "execute_result"
    }
   ],
   "source": [
    "birds.isnull().sum()"
   ]
  },
  {
   "cell_type": "markdown",
   "id": "966a817b-337a-4df5-9498-99dfd59393f0",
   "metadata": {},
   "source": [
    "<h1>Filling Up Null Values</h1>"
   ]
  },
  {
   "cell_type": "code",
   "execution_count": 27,
   "id": "3b90e336-03fb-4e65-999f-91beaf3aebac",
   "metadata": {},
   "outputs": [],
   "source": [
    "birds['bill_length_mm'] = birds['bill_length_mm'].fillna(birds['bill_length_mm'].mean())\n",
    "birds['bill_depth_mm'] = birds['bill_depth_mm'].fillna(birds['bill_depth_mm'].mean())\n",
    "birds['flipper_length_mm'] = birds['flipper_length_mm'].fillna(birds['flipper_length_mm'].mean())\n",
    "birds['body_mass_g'] = birds['body_mass_g'].fillna(birds['body_mass_g'].mean())\n",
    "birds['sex'] = birds['sex'].fillna(birds['sex'].mode()[0])"
   ]
  },
  {
   "cell_type": "markdown",
   "id": "83921f04-ebee-49d6-abf8-1c22618191bc",
   "metadata": {},
   "source": [
    "<h1>Changing Data Types</h1>"
   ]
  },
  {
   "cell_type": "code",
   "execution_count": 28,
   "id": "3e9ed5f0-184e-4a4a-9aef-c0af8ea7347a",
   "metadata": {},
   "outputs": [
    {
     "name": "stdout",
     "output_type": "stream",
     "text": [
      "<class 'pandas.core.frame.DataFrame'>\n",
      "RangeIndex: 344 entries, 0 to 343\n",
      "Data columns (total 8 columns):\n",
      " #   Column             Non-Null Count  Dtype  \n",
      "---  ------             --------------  -----  \n",
      " 0   species            344 non-null    object \n",
      " 1   island             344 non-null    object \n",
      " 2   bill_length_mm     344 non-null    float64\n",
      " 3   bill_depth_mm      344 non-null    float64\n",
      " 4   flipper_length_mm  344 non-null    float64\n",
      " 5   body_mass_g        344 non-null    float64\n",
      " 6   sex                344 non-null    object \n",
      " 7   year               344 non-null    int64  \n",
      "dtypes: float64(4), int64(1), object(3)\n",
      "memory usage: 21.6+ KB\n"
     ]
    }
   ],
   "source": [
    "birds.info()"
   ]
  },
  {
   "cell_type": "code",
   "execution_count": 29,
   "id": "9c409aef-e40d-43f6-9fea-41539741e422",
   "metadata": {},
   "outputs": [],
   "source": [
    "birds['species'] = birds['species'].astype('category')\n",
    "birds['island'] = birds['island'].astype('category')\n",
    "birds['sex'] = birds['sex'].astype('category')\n",
    "birds['year'] = birds['year'].astype('category')"
   ]
  },
  {
   "cell_type": "code",
   "execution_count": 30,
   "id": "b2cd59d0-c24e-4fa7-bac2-01d7f3dd6c8c",
   "metadata": {},
   "outputs": [
    {
     "data": {
      "text/html": [
       "<div>\n",
       "<style scoped>\n",
       "    .dataframe tbody tr th:only-of-type {\n",
       "        vertical-align: middle;\n",
       "    }\n",
       "\n",
       "    .dataframe tbody tr th {\n",
       "        vertical-align: top;\n",
       "    }\n",
       "\n",
       "    .dataframe thead th {\n",
       "        text-align: right;\n",
       "    }\n",
       "</style>\n",
       "<table border=\"1\" class=\"dataframe\">\n",
       "  <thead>\n",
       "    <tr style=\"text-align: right;\">\n",
       "      <th></th>\n",
       "      <th>bill_length_mm</th>\n",
       "      <th>bill_depth_mm</th>\n",
       "      <th>flipper_length_mm</th>\n",
       "      <th>body_mass_g</th>\n",
       "    </tr>\n",
       "  </thead>\n",
       "  <tbody>\n",
       "    <tr>\n",
       "      <th>count</th>\n",
       "      <td>344.000000</td>\n",
       "      <td>344.000000</td>\n",
       "      <td>344.000000</td>\n",
       "      <td>344.000000</td>\n",
       "    </tr>\n",
       "    <tr>\n",
       "      <th>mean</th>\n",
       "      <td>43.921930</td>\n",
       "      <td>17.151170</td>\n",
       "      <td>200.915205</td>\n",
       "      <td>4201.754386</td>\n",
       "    </tr>\n",
       "    <tr>\n",
       "      <th>std</th>\n",
       "      <td>5.443643</td>\n",
       "      <td>1.969027</td>\n",
       "      <td>14.020657</td>\n",
       "      <td>799.613058</td>\n",
       "    </tr>\n",
       "    <tr>\n",
       "      <th>min</th>\n",
       "      <td>32.100000</td>\n",
       "      <td>13.100000</td>\n",
       "      <td>172.000000</td>\n",
       "      <td>2700.000000</td>\n",
       "    </tr>\n",
       "    <tr>\n",
       "      <th>25%</th>\n",
       "      <td>39.275000</td>\n",
       "      <td>15.600000</td>\n",
       "      <td>190.000000</td>\n",
       "      <td>3550.000000</td>\n",
       "    </tr>\n",
       "    <tr>\n",
       "      <th>50%</th>\n",
       "      <td>44.250000</td>\n",
       "      <td>17.300000</td>\n",
       "      <td>197.000000</td>\n",
       "      <td>4050.000000</td>\n",
       "    </tr>\n",
       "    <tr>\n",
       "      <th>75%</th>\n",
       "      <td>48.500000</td>\n",
       "      <td>18.700000</td>\n",
       "      <td>213.000000</td>\n",
       "      <td>4750.000000</td>\n",
       "    </tr>\n",
       "    <tr>\n",
       "      <th>max</th>\n",
       "      <td>59.600000</td>\n",
       "      <td>21.500000</td>\n",
       "      <td>231.000000</td>\n",
       "      <td>6300.000000</td>\n",
       "    </tr>\n",
       "  </tbody>\n",
       "</table>\n",
       "</div>"
      ],
      "text/plain": [
       "       bill_length_mm  bill_depth_mm  flipper_length_mm  body_mass_g\n",
       "count      344.000000     344.000000         344.000000   344.000000\n",
       "mean        43.921930      17.151170         200.915205  4201.754386\n",
       "std          5.443643       1.969027          14.020657   799.613058\n",
       "min         32.100000      13.100000         172.000000  2700.000000\n",
       "25%         39.275000      15.600000         190.000000  3550.000000\n",
       "50%         44.250000      17.300000         197.000000  4050.000000\n",
       "75%         48.500000      18.700000         213.000000  4750.000000\n",
       "max         59.600000      21.500000         231.000000  6300.000000"
      ]
     },
     "execution_count": 30,
     "metadata": {},
     "output_type": "execute_result"
    }
   ],
   "source": [
    "birds.describe()"
   ]
  },
  {
   "cell_type": "markdown",
   "id": "a4a46c73-2919-438e-ad90-e4f9ce4eb6eb",
   "metadata": {},
   "source": [
    "<h1>DATA ANALYZING</h1>"
   ]
  },
  {
   "cell_type": "markdown",
   "id": "8830a34c-87e0-401f-8629-f164c05b855c",
   "metadata": {},
   "source": [
    "<h3>1. How Many Male Penguins Are There In Torgensen Island?</h3>"
   ]
  },
  {
   "cell_type": "code",
   "execution_count": 31,
   "id": "863cb902-16b9-4be9-ad12-0e316cd8c42f",
   "metadata": {},
   "outputs": [
    {
     "data": {
      "text/plain": [
       "island\n",
       "Biscoe       168\n",
       "Dream        124\n",
       "Torgersen     52\n",
       "Name: count, dtype: int64"
      ]
     },
     "execution_count": 31,
     "metadata": {},
     "output_type": "execute_result"
    }
   ],
   "source": [
    "birds['island'].value_counts()"
   ]
  },
  {
   "cell_type": "code",
   "execution_count": 32,
   "id": "b8781e45-3831-4b4c-943e-e12584bab16e",
   "metadata": {},
   "outputs": [
    {
     "data": {
      "text/plain": [
       "sex\n",
       "male      28\n",
       "female    24\n",
       "Name: count, dtype: int64"
      ]
     },
     "execution_count": 32,
     "metadata": {},
     "output_type": "execute_result"
    }
   ],
   "source": [
    "birds[birds['island'] == 'Torgersen']['sex'].value_counts()"
   ]
  },
  {
   "cell_type": "markdown",
   "id": "39cec7e2-df68-4cb6-8f2d-9cb728e8fccb",
   "metadata": {},
   "source": [
    "<h4>Insight 1</h4>\n",
    "<p>Male penguins that are living in Torgersen Island are in a total of 28.</p>"
   ]
  },
  {
   "cell_type": "markdown",
   "id": "2fba2a48-1abf-4fb0-a548-28ef714724c6",
   "metadata": {},
   "source": [
    "<h3>2. How Many Female Penguins In Torgersen Island?</h3>"
   ]
  },
  {
   "cell_type": "code",
   "execution_count": 33,
   "id": "ee209222-533b-4ab8-a1f2-8fb0ec616024",
   "metadata": {},
   "outputs": [
    {
     "data": {
      "text/plain": [
       "sex\n",
       "male      28\n",
       "female    24\n",
       "Name: count, dtype: int64"
      ]
     },
     "execution_count": 33,
     "metadata": {},
     "output_type": "execute_result"
    }
   ],
   "source": [
    "birds[birds['island'] == 'Torgersen']['sex'].value_counts()"
   ]
  },
  {
   "cell_type": "markdown",
   "id": "c46e4594-77f4-4e1d-8724-cb1a69b2bec8",
   "metadata": {},
   "source": [
    "<h4>Insight 2</h4>\n",
    "<p>The number of Female penguin residing in Torgersen island sums to 24, which are less than 4 numbers to the male penguins.</p>"
   ]
  },
  {
   "cell_type": "markdown",
   "id": "fa9ffe3b-fc88-47fb-9029-f1816748b1d0",
   "metadata": {},
   "source": [
    "<h3>3. How many Penguins Are There In Torgersen Island?</h3>"
   ]
  },
  {
   "cell_type": "code",
   "execution_count": 34,
   "id": "026bde53-698f-42a6-966f-cdddd62ed210",
   "metadata": {},
   "outputs": [
    {
     "data": {
      "text/plain": [
       "species\n",
       "Adelie       52\n",
       "Chinstrap     0\n",
       "Gentoo        0\n",
       "Name: count, dtype: int64"
      ]
     },
     "execution_count": 34,
     "metadata": {},
     "output_type": "execute_result"
    }
   ],
   "source": [
    "birds[birds['island'] == 'Torgersen']['species'].value_counts()"
   ]
  },
  {
   "cell_type": "markdown",
   "id": "c3053668-3a7d-4bce-8b03-7e53d2ba655c",
   "metadata": {},
   "source": [
    "<h4>Insight 3</h4>\n",
    "<p>The number of penguin living in Torgersen island sums a total of 52, which all belong to the Adelie Specie.</p>"
   ]
  },
  {
   "cell_type": "markdown",
   "id": "1e0c2995-8318-47b9-b4aa-db3a8b6d0297",
   "metadata": {},
   "source": [
    "<h1>4. What Species Are The Most Dominant in Numbers Among All Species?</h1>"
   ]
  },
  {
   "cell_type": "code",
   "execution_count": 35,
   "id": "bc47ba22-c826-4887-bb5d-6bb7640698dd",
   "metadata": {},
   "outputs": [
    {
     "data": {
      "text/plain": [
       "species\n",
       "Adelie       152\n",
       "Gentoo       124\n",
       "Chinstrap     68\n",
       "Name: count, dtype: int64"
      ]
     },
     "execution_count": 35,
     "metadata": {},
     "output_type": "execute_result"
    }
   ],
   "source": [
    "birds['species'].value_counts()"
   ]
  },
  {
   "cell_type": "markdown",
   "id": "f7bbd0e7-e37a-407e-befd-437035db1127",
   "metadata": {},
   "source": [
    "<h4>Insight 4</h4>\n",
    "<p>The most dominant specie comes from Adelie summing to 152 penguins, 2nd is from Gentoo(124), and lastly is Chinstrap(68).</p>"
   ]
  },
  {
   "cell_type": "markdown",
   "id": "c0384738-a642-485e-8c7e-56fc314eb8c3",
   "metadata": {},
   "source": [
    "<h1>5. What Is The Average Bill Length of Penguins In Biscoe Island?</h1>"
   ]
  },
  {
   "cell_type": "code",
   "execution_count": 36,
   "id": "b58b3af5-e528-4bf5-bf52-1eefa2979f64",
   "metadata": {},
   "outputs": [],
   "source": [
    "birds['bill_length_mm'] = birds['bill_length_mm'].fillna(birds['bill_length_mm'].mean())"
   ]
  },
  {
   "cell_type": "code",
   "execution_count": 37,
   "id": "0e05d268-4802-460d-9ea0-713c0209efd8",
   "metadata": {},
   "outputs": [],
   "source": [
    "bills = birds.groupby(['species', 'island'])['bill_length_mm'].mean()"
   ]
  },
  {
   "cell_type": "code",
   "execution_count": 38,
   "id": "54110fb7-3be8-4215-b389-0a0cc8e11acc",
   "metadata": {},
   "outputs": [
    {
     "data": {
      "text/plain": [
       "species    island   \n",
       "Adelie     Biscoe       38.975000\n",
       "           Dream        38.501786\n",
       "           Torgersen    39.046576\n",
       "Chinstrap  Biscoe             NaN\n",
       "           Dream        48.833824\n",
       "           Torgersen          NaN\n",
       "Gentoo     Biscoe       47.475983\n",
       "           Dream              NaN\n",
       "           Torgersen          NaN\n",
       "Name: bill_length_mm, dtype: float64"
      ]
     },
     "execution_count": 38,
     "metadata": {},
     "output_type": "execute_result"
    }
   ],
   "source": [
    "bills"
   ]
  },
  {
   "cell_type": "markdown",
   "id": "360e009b-9e6d-4f28-a934-a59c942d3530",
   "metadata": {},
   "source": [
    "<h4>Insight 5</h4>\n",
    "<p>The average bill length of penguins residing on Biscoe Island is 47.48.</p>"
   ]
  },
  {
   "cell_type": "markdown",
   "id": "c95057dc-c8bd-4471-b0a7-d5bac17d5b13",
   "metadata": {},
   "source": [
    "<h1>6.Is there a correlation between bill depth to penguins body mass?</h1>"
   ]
  },
  {
   "cell_type": "code",
   "execution_count": 39,
   "id": "4dae27cf-53af-445d-b241-077c7a57183f",
   "metadata": {},
   "outputs": [
    {
     "name": "stdout",
     "output_type": "stream",
     "text": [
      "<class 'pandas.core.frame.DataFrame'>\n",
      "RangeIndex: 344 entries, 0 to 343\n",
      "Data columns (total 8 columns):\n",
      " #   Column             Non-Null Count  Dtype   \n",
      "---  ------             --------------  -----   \n",
      " 0   species            344 non-null    category\n",
      " 1   island             344 non-null    category\n",
      " 2   bill_length_mm     344 non-null    float64 \n",
      " 3   bill_depth_mm      344 non-null    float64 \n",
      " 4   flipper_length_mm  344 non-null    float64 \n",
      " 5   body_mass_g        344 non-null    float64 \n",
      " 6   sex                344 non-null    category\n",
      " 7   year               344 non-null    category\n",
      "dtypes: category(4), float64(4)\n",
      "memory usage: 12.7 KB\n"
     ]
    }
   ],
   "source": [
    "birds.info()"
   ]
  },
  {
   "cell_type": "code",
   "execution_count": 40,
   "id": "1a5b42ff-04f3-43c7-840c-9ded0ed63a29",
   "metadata": {},
   "outputs": [],
   "source": [
    "corre = birds['bill_depth_mm'].corr(birds['body_mass_g'])"
   ]
  },
  {
   "cell_type": "code",
   "execution_count": 41,
   "id": "6c03e50a-9c91-4420-80b8-264e8ea3ec9b",
   "metadata": {},
   "outputs": [
    {
     "data": {
      "text/plain": [
       "np.float64(-0.4719156211860664)"
      ]
     },
     "execution_count": 41,
     "metadata": {},
     "output_type": "execute_result"
    }
   ],
   "source": [
    "corre"
   ]
  },
  {
   "cell_type": "markdown",
   "id": "13534257-515f-425e-a85d-b2790f2a75b4",
   "metadata": {},
   "source": [
    "<h3>Insight 6</h3>\n",
    "<P>There is no correlation between bill depth to a penguin's body mass.</P>"
   ]
  },
  {
   "cell_type": "markdown",
   "id": "683a0fda-4cc1-4577-8706-0d15ba4d7562",
   "metadata": {},
   "source": [
    "<h1>7. Is there a correlation between bill length to flipper length?</h1>"
   ]
  },
  {
   "cell_type": "code",
   "execution_count": 42,
   "id": "a8939167-624a-4a5b-bf40-0c82a0f88dee",
   "metadata": {},
   "outputs": [],
   "source": [
    "bill_l = birds['bill_length_mm'].corr(birds['flipper_length_mm'])"
   ]
  },
  {
   "cell_type": "code",
   "execution_count": 43,
   "id": "c896afc7-a548-40c4-8922-4aa3210ec01e",
   "metadata": {},
   "outputs": [
    {
     "data": {
      "text/plain": [
       "np.float64(0.6561813407464278)"
      ]
     },
     "execution_count": 43,
     "metadata": {},
     "output_type": "execute_result"
    }
   ],
   "source": [
    "bill_l"
   ]
  },
  {
   "cell_type": "markdown",
   "id": "e5532966-7857-48e2-977a-678a8a8b41c7",
   "metadata": {},
   "source": [
    "<h3>Insight 7</h3>\n",
    "<p>There is a correlation between the penguins's bill length to it's flipper length, yet the data seems scarce to analyze what is the reason\n",
    "for it's correlation?</p>"
   ]
  },
  {
   "cell_type": "markdown",
   "id": "939fedd5-90e4-427a-826d-576c783b81db",
   "metadata": {},
   "source": [
    "<h1>8. What Species has the heaviest average body mass and from what year?</h1>"
   ]
  },
  {
   "cell_type": "code",
   "execution_count": 44,
   "id": "d2827da3-7888-4d68-9bc0-aea6b1558443",
   "metadata": {},
   "outputs": [
    {
     "data": {
      "text/html": [
       "<div>\n",
       "<style scoped>\n",
       "    .dataframe tbody tr th:only-of-type {\n",
       "        vertical-align: middle;\n",
       "    }\n",
       "\n",
       "    .dataframe tbody tr th {\n",
       "        vertical-align: top;\n",
       "    }\n",
       "\n",
       "    .dataframe thead th {\n",
       "        text-align: right;\n",
       "    }\n",
       "</style>\n",
       "<table border=\"1\" class=\"dataframe\">\n",
       "  <thead>\n",
       "    <tr style=\"text-align: right;\">\n",
       "      <th></th>\n",
       "      <th>year</th>\n",
       "      <th>species</th>\n",
       "      <th>body_mass_g</th>\n",
       "    </tr>\n",
       "  </thead>\n",
       "  <tbody>\n",
       "    <tr>\n",
       "      <th>7</th>\n",
       "      <td>2007</td>\n",
       "      <td>Adelie</td>\n",
       "      <td>4675.0</td>\n",
       "    </tr>\n",
       "    <tr>\n",
       "      <th>295</th>\n",
       "      <td>2007</td>\n",
       "      <td>Chinstrap</td>\n",
       "      <td>4400.0</td>\n",
       "    </tr>\n",
       "    <tr>\n",
       "      <th>169</th>\n",
       "      <td>2007</td>\n",
       "      <td>Gentoo</td>\n",
       "      <td>6300.0</td>\n",
       "    </tr>\n",
       "    <tr>\n",
       "      <th>81</th>\n",
       "      <td>2008</td>\n",
       "      <td>Adelie</td>\n",
       "      <td>4700.0</td>\n",
       "    </tr>\n",
       "    <tr>\n",
       "      <th>313</th>\n",
       "      <td>2008</td>\n",
       "      <td>Chinstrap</td>\n",
       "      <td>4800.0</td>\n",
       "    </tr>\n",
       "    <tr>\n",
       "      <th>229</th>\n",
       "      <td>2008</td>\n",
       "      <td>Gentoo</td>\n",
       "      <td>6000.0</td>\n",
       "    </tr>\n",
       "    <tr>\n",
       "      <th>109</th>\n",
       "      <td>2009</td>\n",
       "      <td>Adelie</td>\n",
       "      <td>4775.0</td>\n",
       "    </tr>\n",
       "    <tr>\n",
       "      <th>321</th>\n",
       "      <td>2009</td>\n",
       "      <td>Chinstrap</td>\n",
       "      <td>4450.0</td>\n",
       "    </tr>\n",
       "    <tr>\n",
       "      <th>269</th>\n",
       "      <td>2009</td>\n",
       "      <td>Gentoo</td>\n",
       "      <td>6000.0</td>\n",
       "    </tr>\n",
       "  </tbody>\n",
       "</table>\n",
       "</div>"
      ],
      "text/plain": [
       "     year    species  body_mass_g\n",
       "7    2007     Adelie       4675.0\n",
       "295  2007  Chinstrap       4400.0\n",
       "169  2007     Gentoo       6300.0\n",
       "81   2008     Adelie       4700.0\n",
       "313  2008  Chinstrap       4800.0\n",
       "229  2008     Gentoo       6000.0\n",
       "109  2009     Adelie       4775.0\n",
       "321  2009  Chinstrap       4450.0\n",
       "269  2009     Gentoo       6000.0"
      ]
     },
     "execution_count": 44,
     "metadata": {},
     "output_type": "execute_result"
    }
   ],
   "source": [
    "heaviest_penguins = birds.loc[birds.groupby(['year', 'species'])['body_mass_g'].idxmax()]\n",
    "heaviest_penguins[['year', 'species', 'body_mass_g']]"
   ]
  },
  {
   "cell_type": "markdown",
   "id": "25b7bda8-6b5f-454f-99a0-9b69fb607399",
   "metadata": {},
   "source": [
    "<h3>Insight 8</h3>\n",
    "<P>The heaviest species comes from Gentoo weighing 6000.00g average body mass from year 2008 and 2009.</P>"
   ]
  },
  {
   "cell_type": "markdown",
   "id": "90aca29f-c03f-4eec-a7b2-7d2f950ca24b",
   "metadata": {},
   "source": [
    "<h1>9.How many penguins are there for each combination of sex and species??</h1>"
   ]
  },
  {
   "cell_type": "code",
   "execution_count": 45,
   "id": "312e3b99-71fb-44e2-9669-200f7c8ef27b",
   "metadata": {},
   "outputs": [
    {
     "data": {
      "text/plain": [
       "sex     species  \n",
       "female  Adelie       73\n",
       "        Chinstrap    34\n",
       "        Gentoo       58\n",
       "male    Adelie       79\n",
       "        Chinstrap    34\n",
       "        Gentoo       66\n",
       "dtype: int64"
      ]
     },
     "execution_count": 45,
     "metadata": {},
     "output_type": "execute_result"
    }
   ],
   "source": [
    "birds.groupby(['sex', 'species']).size()"
   ]
  },
  {
   "cell_type": "markdown",
   "id": "e35a8f67-a11a-48a0-867b-9926ec8854a6",
   "metadata": {},
   "source": [
    "<h3>Insight 9</h3>\n",
    "<P>The Adelie sums up to 152, Chinstrap(68), and Gentoo(124).</P>"
   ]
  },
  {
   "cell_type": "markdown",
   "id": "146d943b-408f-4531-9230-0326a512b8a6",
   "metadata": {},
   "source": [
    "<h1>10.What is the average flipper length for each island and sex??</h1>"
   ]
  },
  {
   "cell_type": "code",
   "execution_count": 46,
   "id": "b44edee9-e01e-4d2a-bfc6-0d3e4903b881",
   "metadata": {},
   "outputs": [
    {
     "data": {
      "text/plain": [
       "island     sex   \n",
       "Biscoe     female    205.687500\n",
       "           male      213.260400\n",
       "Dream      female    190.016393\n",
       "           male      196.031746\n",
       "Torgersen  female    188.291667\n",
       "           male      194.032686\n",
       "Name: flipper_length_mm, dtype: float64"
      ]
     },
     "execution_count": 46,
     "metadata": {},
     "output_type": "execute_result"
    }
   ],
   "source": [
    "birds.groupby(['island', 'sex'])['flipper_length_mm'].mean()"
   ]
  },
  {
   "cell_type": "markdown",
   "id": "0d84d96e-ef95-493c-a3cb-d2ce38d3ccb2",
   "metadata": {},
   "source": [
    "<h3>Insight 10</h3>\n",
    "<P>This shows the difference sizes between different penguin sexes and their responsive islands.</P>"
   ]
  },
  {
   "cell_type": "markdown",
   "id": "d4f02472-e30f-472d-8f5f-b776c3511f7b",
   "metadata": {},
   "source": [
    "<h1>11.Is there a correlation between male and female bill length?</h1>"
   ]
  },
  {
   "cell_type": "code",
   "execution_count": 47,
   "id": "a6e04ec5-6ae5-4561-9944-8070a61b850b",
   "metadata": {},
   "outputs": [
    {
     "name": "stdout",
     "output_type": "stream",
     "text": [
      "<class 'pandas.core.frame.DataFrame'>\n",
      "RangeIndex: 344 entries, 0 to 343\n",
      "Data columns (total 8 columns):\n",
      " #   Column             Non-Null Count  Dtype   \n",
      "---  ------             --------------  -----   \n",
      " 0   species            344 non-null    category\n",
      " 1   island             344 non-null    category\n",
      " 2   bill_length_mm     344 non-null    float64 \n",
      " 3   bill_depth_mm      344 non-null    float64 \n",
      " 4   flipper_length_mm  344 non-null    float64 \n",
      " 5   body_mass_g        344 non-null    float64 \n",
      " 6   sex                344 non-null    category\n",
      " 7   year               344 non-null    category\n",
      "dtypes: category(4), float64(4)\n",
      "memory usage: 12.7 KB\n"
     ]
    }
   ],
   "source": [
    "birds.info()"
   ]
  },
  {
   "cell_type": "code",
   "execution_count": 48,
   "id": "62765504-2e4c-4390-8054-62e395f23a44",
   "metadata": {},
   "outputs": [
    {
     "data": {
      "text/plain": [
       "0       True\n",
       "1      False\n",
       "2      False\n",
       "3       True\n",
       "4      False\n",
       "       ...  \n",
       "339     True\n",
       "340    False\n",
       "341     True\n",
       "342     True\n",
       "343    False\n",
       "Name: sex, Length: 344, dtype: bool"
      ]
     },
     "execution_count": 48,
     "metadata": {},
     "output_type": "execute_result"
    }
   ],
   "source": [
    "birds['sex'] == 'male'"
   ]
  },
  {
   "cell_type": "code",
   "execution_count": 49,
   "id": "d9189031-f7d1-44b4-bcb0-dfb43c3586ce",
   "metadata": {},
   "outputs": [
    {
     "data": {
      "text/plain": [
       "0      39.10000\n",
       "3      43.92193\n",
       "5      39.30000\n",
       "7      39.20000\n",
       "8      34.10000\n",
       "         ...   \n",
       "334    50.20000\n",
       "336    51.90000\n",
       "339    55.80000\n",
       "341    49.60000\n",
       "342    50.80000\n",
       "Name: bill_length_mm, Length: 179, dtype: float64"
      ]
     },
     "execution_count": 49,
     "metadata": {},
     "output_type": "execute_result"
    }
   ],
   "source": [
    "birds[birds['sex'] == 'male']['bill_length_mm']"
   ]
  },
  {
   "cell_type": "code",
   "execution_count": 50,
   "id": "09338e1b-0873-4459-8d19-0d0b41f7a6cf",
   "metadata": {},
   "outputs": [
    {
     "data": {
      "text/plain": [
       "1      39.5\n",
       "2      40.3\n",
       "4      36.7\n",
       "6      38.9\n",
       "12     41.1\n",
       "       ... \n",
       "335    45.6\n",
       "337    46.8\n",
       "338    45.7\n",
       "340    43.5\n",
       "343    50.2\n",
       "Name: bill_length_mm, Length: 165, dtype: float64"
      ]
     },
     "execution_count": 50,
     "metadata": {},
     "output_type": "execute_result"
    }
   ],
   "source": [
    "birds[birds['sex'] == 'female']['bill_length_mm']"
   ]
  },
  {
   "cell_type": "code",
   "execution_count": 51,
   "id": "e6e2784a-5167-42ac-ad82-8771f55152ae",
   "metadata": {},
   "outputs": [
    {
     "data": {
      "text/plain": [
       "F_onewayResult(statistic=np.float64(39.65455984564769), pvalue=np.float64(9.307501289283404e-10))"
      ]
     },
     "execution_count": 51,
     "metadata": {},
     "output_type": "execute_result"
    }
   ],
   "source": [
    "f_oneway(birds[birds['sex'] == 'male']['bill_length_mm'],birds[birds['sex'] == 'female']['bill_length_mm'])"
   ]
  },
  {
   "cell_type": "markdown",
   "id": "39a0d3f0-b0b1-4f35-9684-a53ee9396a9e",
   "metadata": {},
   "source": [
    "<h3>Insight 11</h3>\n",
    "<P>There is a correlation between penguin's difference in sex and their bill length, must be their functionality as a means for hunting and nurturing offspring.</P>"
   ]
  },
  {
   "cell_type": "markdown",
   "id": "24e4b142-4f1c-4c0d-ad5f-b491c8bc6e81",
   "metadata": {},
   "source": [
    "<h1>12.Which island has the lowest average bill depth of penguins?</h1>"
   ]
  },
  {
   "cell_type": "code",
   "execution_count": 53,
   "id": "a0b87981-486d-4192-a848-bccfb36bd585",
   "metadata": {},
   "outputs": [],
   "source": [
    "avg = birds.groupby('island')['bill_depth_mm'].mean().sort_values()"
   ]
  },
  {
   "cell_type": "code",
   "execution_count": 54,
   "id": "58a702da-845e-4bb9-8b84-6a96da80fbdd",
   "metadata": {},
   "outputs": [
    {
     "data": {
      "text/plain": [
       "island\n",
       "Biscoe       15.882447\n",
       "Dream        18.344355\n",
       "Torgersen    18.404830\n",
       "Name: bill_depth_mm, dtype: float64"
      ]
     },
     "execution_count": 54,
     "metadata": {},
     "output_type": "execute_result"
    }
   ],
   "source": [
    "avg"
   ]
  },
  {
   "cell_type": "markdown",
   "id": "64de93cd-abbd-4ea0-bcaa-c6b09f67dc35",
   "metadata": {},
   "source": [
    "<h3>Insight 12</h3>\n",
    "<P>The island with the lowest average bill depth comes from Biscoe Island, must have been the situation on their habitat.</P>"
   ]
  },
  {
   "cell_type": "markdown",
   "id": "41feb12a-9813-4595-9db1-45bca90930ff",
   "metadata": {},
   "source": [
    "<h1>Aggregating Data</h1>"
   ]
  },
  {
   "cell_type": "code",
   "execution_count": null,
   "id": "659e1078-ce0e-4692-a7c3-4ac519f36ebd",
   "metadata": {},
   "outputs": [],
   "source": [
    "hadouken = birds.groupby(['species', 'sex', 'island']).size()"
   ]
  },
  {
   "cell_type": "code",
   "execution_count": null,
   "id": "af6e8f28-aa98-4169-a582-8e1153ce0462",
   "metadata": {},
   "outputs": [],
   "source": [
    "hadouken"
   ]
  },
  {
   "cell_type": "markdown",
   "id": "fc5e285a-733e-4eb1-8d9a-5949928fe343",
   "metadata": {},
   "source": [
    "<h1>CORRELATIONAL</h1>"
   ]
  }
 ],
 "metadata": {
  "kernelspec": {
   "display_name": "Python 3 (ipykernel)",
   "language": "python",
   "name": "python3"
  },
  "language_info": {
   "codemirror_mode": {
    "name": "ipython",
    "version": 3
   },
   "file_extension": ".py",
   "mimetype": "text/x-python",
   "name": "python",
   "nbconvert_exporter": "python",
   "pygments_lexer": "ipython3",
   "version": "3.13.7"
  }
 },
 "nbformat": 4,
 "nbformat_minor": 5
}
