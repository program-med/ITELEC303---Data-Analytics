{
 "cells": [
  {
   "cell_type": "markdown",
   "id": "fff33ea5-bd99-48dc-a0c4-cb7f8dc20414",
   "metadata": {},
   "source": [
    "<h1> UK ROAD ACCIDENT ANALYSIS</h1>\n",
    "<hr> \n",
    "Analyst: John Allen Bonggay "
   ]
  },
  {
   "cell_type": "code",
   "execution_count": 1,
   "id": "7d17f1cb-0d3d-4965-8a62-c5c2f3f5964a",
   "metadata": {},
   "outputs": [],
   "source": [
    "import numpy as np\n",
    "import pandas as pd \n",
    "import matplotlib.pyplot as plt\n",
    "import warnings\n",
    "warnings.filterwarnings('ignore')"
   ]
  },
  {
   "cell_type": "code",
   "execution_count": 2,
   "id": "deb7d0b5-768e-44f4-bad9-95749ca1d1cc",
   "metadata": {},
   "outputs": [],
   "source": [
    "road_accidents = pd.read_csv('accident_data.csv')"
   ]
  },
  {
   "cell_type": "code",
   "execution_count": 3,
   "id": "f46fce96-2a8f-45ea-aa50-f83c9b4f1cc0",
   "metadata": {},
   "outputs": [],
   "source": [
    "date = road_accidents['Accident Date'] = pd.to_datetime(road_accidents['Accident Date'], dayfirst = True, errors = 'coerce')"
   ]
  },
  {
   "cell_type": "code",
   "execution_count": 4,
   "id": "f8385734-ddad-4fd8-8e86-f95c8e5eac70",
   "metadata": {},
   "outputs": [],
   "source": [
    "road_accidents['Year'] = road_accidents['Accident Date'].dt.year\n",
    "road_accidents['Month'] = road_accidents['Accident Date'].dt.month\n",
    "road_accidents['Day'] = road_accidents['Accident Date'].dt.day\n",
    "road_accidents['DayofWeek'] = road_accidents['Accident Date'].dt.dayofweek"
   ]
  },
  {
   "cell_type": "code",
   "execution_count": 5,
   "id": "d92c9dc1-88be-4bc2-b890-331cd12600ad",
   "metadata": {
    "scrolled": true
   },
   "outputs": [
    {
     "data": {
      "text/html": [
       "<div>\n",
       "<style scoped>\n",
       "    .dataframe tbody tr th:only-of-type {\n",
       "        vertical-align: middle;\n",
       "    }\n",
       "\n",
       "    .dataframe tbody tr th {\n",
       "        vertical-align: top;\n",
       "    }\n",
       "\n",
       "    .dataframe thead th {\n",
       "        text-align: right;\n",
       "    }\n",
       "</style>\n",
       "<table border=\"1\" class=\"dataframe\">\n",
       "  <thead>\n",
       "    <tr style=\"text-align: right;\">\n",
       "      <th></th>\n",
       "      <th>Index</th>\n",
       "      <th>Accident_Severity</th>\n",
       "      <th>Accident Date</th>\n",
       "      <th>Latitude</th>\n",
       "      <th>Light_Conditions</th>\n",
       "      <th>District Area</th>\n",
       "      <th>Longitude</th>\n",
       "      <th>Number_of_Casualties</th>\n",
       "      <th>Number_of_Vehicles</th>\n",
       "      <th>Road_Surface_Conditions</th>\n",
       "      <th>Road_Type</th>\n",
       "      <th>Urban_or_Rural_Area</th>\n",
       "      <th>Weather_Conditions</th>\n",
       "      <th>Vehicle_Type</th>\n",
       "      <th>Year</th>\n",
       "      <th>Month</th>\n",
       "      <th>Day</th>\n",
       "      <th>DayofWeek</th>\n",
       "    </tr>\n",
       "  </thead>\n",
       "  <tbody>\n",
       "    <tr>\n",
       "      <th>0</th>\n",
       "      <td>200701BS64157</td>\n",
       "      <td>Serious</td>\n",
       "      <td>2019-06-05</td>\n",
       "      <td>51.506187</td>\n",
       "      <td>Darkness - lights lit</td>\n",
       "      <td>Kensington and Chelsea</td>\n",
       "      <td>-0.209082</td>\n",
       "      <td>1</td>\n",
       "      <td>2</td>\n",
       "      <td>Dry</td>\n",
       "      <td>Single carriageway</td>\n",
       "      <td>Urban</td>\n",
       "      <td>Fine no high winds</td>\n",
       "      <td>Car</td>\n",
       "      <td>2019</td>\n",
       "      <td>6</td>\n",
       "      <td>5</td>\n",
       "      <td>2</td>\n",
       "    </tr>\n",
       "    <tr>\n",
       "      <th>1</th>\n",
       "      <td>200701BS65737</td>\n",
       "      <td>Serious</td>\n",
       "      <td>2019-07-02</td>\n",
       "      <td>51.495029</td>\n",
       "      <td>Daylight</td>\n",
       "      <td>Kensington and Chelsea</td>\n",
       "      <td>-0.173647</td>\n",
       "      <td>1</td>\n",
       "      <td>2</td>\n",
       "      <td>Wet or damp</td>\n",
       "      <td>Single carriageway</td>\n",
       "      <td>Urban</td>\n",
       "      <td>Raining no high winds</td>\n",
       "      <td>Car</td>\n",
       "      <td>2019</td>\n",
       "      <td>7</td>\n",
       "      <td>2</td>\n",
       "      <td>1</td>\n",
       "    </tr>\n",
       "    <tr>\n",
       "      <th>2</th>\n",
       "      <td>200701BS66127</td>\n",
       "      <td>Serious</td>\n",
       "      <td>2019-08-26</td>\n",
       "      <td>51.517715</td>\n",
       "      <td>Darkness - lighting unknown</td>\n",
       "      <td>Kensington and Chelsea</td>\n",
       "      <td>-0.210215</td>\n",
       "      <td>1</td>\n",
       "      <td>3</td>\n",
       "      <td>Dry</td>\n",
       "      <td>NaN</td>\n",
       "      <td>Urban</td>\n",
       "      <td>NaN</td>\n",
       "      <td>Taxi/Private hire car</td>\n",
       "      <td>2019</td>\n",
       "      <td>8</td>\n",
       "      <td>26</td>\n",
       "      <td>0</td>\n",
       "    </tr>\n",
       "    <tr>\n",
       "      <th>3</th>\n",
       "      <td>200701BS66128</td>\n",
       "      <td>Serious</td>\n",
       "      <td>2019-08-16</td>\n",
       "      <td>51.495478</td>\n",
       "      <td>Daylight</td>\n",
       "      <td>Kensington and Chelsea</td>\n",
       "      <td>-0.202731</td>\n",
       "      <td>1</td>\n",
       "      <td>4</td>\n",
       "      <td>Dry</td>\n",
       "      <td>Single carriageway</td>\n",
       "      <td>Urban</td>\n",
       "      <td>Fine no high winds</td>\n",
       "      <td>Bus or coach (17 or more pass seats)</td>\n",
       "      <td>2019</td>\n",
       "      <td>8</td>\n",
       "      <td>16</td>\n",
       "      <td>4</td>\n",
       "    </tr>\n",
       "    <tr>\n",
       "      <th>4</th>\n",
       "      <td>200701BS66837</td>\n",
       "      <td>Slight</td>\n",
       "      <td>2019-09-03</td>\n",
       "      <td>51.488576</td>\n",
       "      <td>Darkness - lights lit</td>\n",
       "      <td>Kensington and Chelsea</td>\n",
       "      <td>-0.192487</td>\n",
       "      <td>1</td>\n",
       "      <td>2</td>\n",
       "      <td>Dry</td>\n",
       "      <td>NaN</td>\n",
       "      <td>Urban</td>\n",
       "      <td>NaN</td>\n",
       "      <td>Other vehicle</td>\n",
       "      <td>2019</td>\n",
       "      <td>9</td>\n",
       "      <td>3</td>\n",
       "      <td>1</td>\n",
       "    </tr>\n",
       "    <tr>\n",
       "      <th>...</th>\n",
       "      <td>...</td>\n",
       "      <td>...</td>\n",
       "      <td>...</td>\n",
       "      <td>...</td>\n",
       "      <td>...</td>\n",
       "      <td>...</td>\n",
       "      <td>...</td>\n",
       "      <td>...</td>\n",
       "      <td>...</td>\n",
       "      <td>...</td>\n",
       "      <td>...</td>\n",
       "      <td>...</td>\n",
       "      <td>...</td>\n",
       "      <td>...</td>\n",
       "      <td>...</td>\n",
       "      <td>...</td>\n",
       "      <td>...</td>\n",
       "      <td>...</td>\n",
       "    </tr>\n",
       "    <tr>\n",
       "      <th>660674</th>\n",
       "      <td>201091NM01760</td>\n",
       "      <td>Slight</td>\n",
       "      <td>2022-02-18</td>\n",
       "      <td>57.374005</td>\n",
       "      <td>Daylight</td>\n",
       "      <td>Highland</td>\n",
       "      <td>-3.467828</td>\n",
       "      <td>2</td>\n",
       "      <td>1</td>\n",
       "      <td>Dry</td>\n",
       "      <td>Single carriageway</td>\n",
       "      <td>Rural</td>\n",
       "      <td>Fine no high winds</td>\n",
       "      <td>Car</td>\n",
       "      <td>2022</td>\n",
       "      <td>2</td>\n",
       "      <td>18</td>\n",
       "      <td>4</td>\n",
       "    </tr>\n",
       "    <tr>\n",
       "      <th>660675</th>\n",
       "      <td>201091NM01881</td>\n",
       "      <td>Slight</td>\n",
       "      <td>2022-02-21</td>\n",
       "      <td>57.232273</td>\n",
       "      <td>Darkness - no lighting</td>\n",
       "      <td>Highland</td>\n",
       "      <td>-3.809281</td>\n",
       "      <td>1</td>\n",
       "      <td>1</td>\n",
       "      <td>Frost or ice</td>\n",
       "      <td>Single carriageway</td>\n",
       "      <td>Rural</td>\n",
       "      <td>Fine no high winds</td>\n",
       "      <td>Car</td>\n",
       "      <td>2022</td>\n",
       "      <td>2</td>\n",
       "      <td>21</td>\n",
       "      <td>0</td>\n",
       "    </tr>\n",
       "    <tr>\n",
       "      <th>660676</th>\n",
       "      <td>201091NM01935</td>\n",
       "      <td>Slight</td>\n",
       "      <td>2022-02-23</td>\n",
       "      <td>57.585044</td>\n",
       "      <td>Daylight</td>\n",
       "      <td>Highland</td>\n",
       "      <td>-3.862727</td>\n",
       "      <td>1</td>\n",
       "      <td>3</td>\n",
       "      <td>Frost or ice</td>\n",
       "      <td>Single carriageway</td>\n",
       "      <td>Rural</td>\n",
       "      <td>Fine no high winds</td>\n",
       "      <td>Car</td>\n",
       "      <td>2022</td>\n",
       "      <td>2</td>\n",
       "      <td>23</td>\n",
       "      <td>2</td>\n",
       "    </tr>\n",
       "    <tr>\n",
       "      <th>660677</th>\n",
       "      <td>201091NM01964</td>\n",
       "      <td>Serious</td>\n",
       "      <td>2022-02-23</td>\n",
       "      <td>57.214898</td>\n",
       "      <td>Darkness - no lighting</td>\n",
       "      <td>Highland</td>\n",
       "      <td>-3.823997</td>\n",
       "      <td>1</td>\n",
       "      <td>2</td>\n",
       "      <td>Wet or damp</td>\n",
       "      <td>Single carriageway</td>\n",
       "      <td>Rural</td>\n",
       "      <td>Fine no high winds</td>\n",
       "      <td>Motorcycle over 500cc</td>\n",
       "      <td>2022</td>\n",
       "      <td>2</td>\n",
       "      <td>23</td>\n",
       "      <td>2</td>\n",
       "    </tr>\n",
       "    <tr>\n",
       "      <th>660678</th>\n",
       "      <td>201091NM02142</td>\n",
       "      <td>Serious</td>\n",
       "      <td>2022-02-28</td>\n",
       "      <td>57.575210</td>\n",
       "      <td>Daylight</td>\n",
       "      <td>Highland</td>\n",
       "      <td>-3.895673</td>\n",
       "      <td>1</td>\n",
       "      <td>1</td>\n",
       "      <td>Wet or damp</td>\n",
       "      <td>Dual carriageway</td>\n",
       "      <td>Rural</td>\n",
       "      <td>Snowing no high winds</td>\n",
       "      <td>Car</td>\n",
       "      <td>2022</td>\n",
       "      <td>2</td>\n",
       "      <td>28</td>\n",
       "      <td>0</td>\n",
       "    </tr>\n",
       "  </tbody>\n",
       "</table>\n",
       "<p>660679 rows × 18 columns</p>\n",
       "</div>"
      ],
      "text/plain": [
       "                Index Accident_Severity Accident Date   Latitude  \\\n",
       "0       200701BS64157           Serious    2019-06-05  51.506187   \n",
       "1       200701BS65737           Serious    2019-07-02  51.495029   \n",
       "2       200701BS66127           Serious    2019-08-26  51.517715   \n",
       "3       200701BS66128           Serious    2019-08-16  51.495478   \n",
       "4       200701BS66837            Slight    2019-09-03  51.488576   \n",
       "...               ...               ...           ...        ...   \n",
       "660674  201091NM01760            Slight    2022-02-18  57.374005   \n",
       "660675  201091NM01881            Slight    2022-02-21  57.232273   \n",
       "660676  201091NM01935            Slight    2022-02-23  57.585044   \n",
       "660677  201091NM01964           Serious    2022-02-23  57.214898   \n",
       "660678  201091NM02142           Serious    2022-02-28  57.575210   \n",
       "\n",
       "                   Light_Conditions           District Area  Longitude  \\\n",
       "0             Darkness - lights lit  Kensington and Chelsea  -0.209082   \n",
       "1                          Daylight  Kensington and Chelsea  -0.173647   \n",
       "2       Darkness - lighting unknown  Kensington and Chelsea  -0.210215   \n",
       "3                          Daylight  Kensington and Chelsea  -0.202731   \n",
       "4             Darkness - lights lit  Kensington and Chelsea  -0.192487   \n",
       "...                             ...                     ...        ...   \n",
       "660674                     Daylight                Highland  -3.467828   \n",
       "660675       Darkness - no lighting                Highland  -3.809281   \n",
       "660676                     Daylight                Highland  -3.862727   \n",
       "660677       Darkness - no lighting                Highland  -3.823997   \n",
       "660678                     Daylight                Highland  -3.895673   \n",
       "\n",
       "        Number_of_Casualties  Number_of_Vehicles Road_Surface_Conditions  \\\n",
       "0                          1                   2                     Dry   \n",
       "1                          1                   2             Wet or damp   \n",
       "2                          1                   3                     Dry   \n",
       "3                          1                   4                     Dry   \n",
       "4                          1                   2                     Dry   \n",
       "...                      ...                 ...                     ...   \n",
       "660674                     2                   1                     Dry   \n",
       "660675                     1                   1            Frost or ice   \n",
       "660676                     1                   3            Frost or ice   \n",
       "660677                     1                   2             Wet or damp   \n",
       "660678                     1                   1             Wet or damp   \n",
       "\n",
       "                 Road_Type Urban_or_Rural_Area     Weather_Conditions  \\\n",
       "0       Single carriageway               Urban     Fine no high winds   \n",
       "1       Single carriageway               Urban  Raining no high winds   \n",
       "2                      NaN               Urban                    NaN   \n",
       "3       Single carriageway               Urban     Fine no high winds   \n",
       "4                      NaN               Urban                    NaN   \n",
       "...                    ...                 ...                    ...   \n",
       "660674  Single carriageway               Rural     Fine no high winds   \n",
       "660675  Single carriageway               Rural     Fine no high winds   \n",
       "660676  Single carriageway               Rural     Fine no high winds   \n",
       "660677  Single carriageway               Rural     Fine no high winds   \n",
       "660678    Dual carriageway               Rural  Snowing no high winds   \n",
       "\n",
       "                                Vehicle_Type  Year  Month  Day  DayofWeek  \n",
       "0                                        Car  2019      6    5          2  \n",
       "1                                        Car  2019      7    2          1  \n",
       "2                      Taxi/Private hire car  2019      8   26          0  \n",
       "3       Bus or coach (17 or more pass seats)  2019      8   16          4  \n",
       "4                              Other vehicle  2019      9    3          1  \n",
       "...                                      ...   ...    ...  ...        ...  \n",
       "660674                                   Car  2022      2   18          4  \n",
       "660675                                   Car  2022      2   21          0  \n",
       "660676                                   Car  2022      2   23          2  \n",
       "660677                 Motorcycle over 500cc  2022      2   23          2  \n",
       "660678                                   Car  2022      2   28          0  \n",
       "\n",
       "[660679 rows x 18 columns]"
      ]
     },
     "execution_count": 5,
     "metadata": {},
     "output_type": "execute_result"
    }
   ],
   "source": [
    "road_accidents"
   ]
  },
  {
   "cell_type": "code",
   "execution_count": 6,
   "id": "60f80944-1b54-42a2-ac77-0faedde98083",
   "metadata": {},
   "outputs": [],
   "source": [
    "road_accidents[\"Accident_Severity\"] = road_accidents[\"Accident_Severity\"].astype('category')\n",
    "road_accidents[\"Light_Conditions\"] = road_accidents[\"Light_Conditions\"].astype('category')\n",
    "road_accidents[\"District_Area\"] = road_accidents[\"District Area\"].astype('category')\n",
    "road_accidents[\"Road_Surface_Condtions\"] = road_accidents[\"Road_Surface_Conditions\"].astype('category')\n",
    "road_accidents[\"Road_Type\"] = road_accidents[\"Road_Type\"].astype('category')\n",
    "road_accidents[\"Urban_or_Rural_Area\"] = road_accidents[\"Urban_or_Rural_Area\"].astype('category')\n",
    "road_accidents[\"Weather_Conditions\"] = road_accidents[\"Weather_Conditions\"].astype('category')\n",
    "road_accidents[\"Vehicle_Type\"] = road_accidents[\"Vehicle_Type\"].astype('category')"
   ]
  },
  {
   "cell_type": "markdown",
   "id": "117af373-8162-4227-bfca-2573ff800960",
   "metadata": {},
   "source": [
    "<h2>1. Total Number Of Accidents In UK Ranging from year 2019 to 2022.</h2>"
   ]
  },
  {
   "cell_type": "code",
   "execution_count": 7,
   "id": "7790a3c3-eada-4a5f-a653-38d1001ed6a5",
   "metadata": {},
   "outputs": [
    {
     "data": {
      "text/plain": [
       "np.int64(660679)"
      ]
     },
     "execution_count": 7,
     "metadata": {},
     "output_type": "execute_result"
    }
   ],
   "source": [
    "road_accidents['Index'].value_counts().sum()"
   ]
  },
  {
   "cell_type": "markdown",
   "id": "7664e2e5-bcfe-4acd-ba45-f90ebac507a1",
   "metadata": {},
   "source": [
    "<h2>Insight</h2>\n",
    "<p>The sum total of accidents sums up to 660679 cases.</p>"
   ]
  },
  {
   "cell_type": "markdown",
   "id": "9d7d1ef6-9ef5-4601-828c-5016eae51965",
   "metadata": {},
   "source": [
    "<h2>2. Difference Between Casualties of Multi-Vehicle and Single-Vehicle</h2>"
   ]
  },
  {
   "cell_type": "code",
   "execution_count": 33,
   "id": "b8d68e2c-8907-4ad7-857c-7d2f32a3f846",
   "metadata": {},
   "outputs": [],
   "source": [
    "casualties = road_accidents.groupby('Accident_Type')['Number_of_Casualties'].describe()"
   ]
  },
  {
   "cell_type": "code",
   "execution_count": 34,
   "id": "4704ee84-46b4-4b4f-a00d-065c8b1b7168",
   "metadata": {},
   "outputs": [
    {
     "data": {
      "text/html": [
       "<div>\n",
       "<style scoped>\n",
       "    .dataframe tbody tr th:only-of-type {\n",
       "        vertical-align: middle;\n",
       "    }\n",
       "\n",
       "    .dataframe tbody tr th {\n",
       "        vertical-align: top;\n",
       "    }\n",
       "\n",
       "    .dataframe thead th {\n",
       "        text-align: right;\n",
       "    }\n",
       "</style>\n",
       "<table border=\"1\" class=\"dataframe\">\n",
       "  <thead>\n",
       "    <tr style=\"text-align: right;\">\n",
       "      <th></th>\n",
       "      <th>count</th>\n",
       "      <th>mean</th>\n",
       "      <th>std</th>\n",
       "      <th>min</th>\n",
       "      <th>25%</th>\n",
       "      <th>50%</th>\n",
       "      <th>75%</th>\n",
       "      <th>max</th>\n",
       "    </tr>\n",
       "    <tr>\n",
       "      <th>Accident_Type</th>\n",
       "      <th></th>\n",
       "      <th></th>\n",
       "      <th></th>\n",
       "      <th></th>\n",
       "      <th></th>\n",
       "      <th></th>\n",
       "      <th></th>\n",
       "      <th></th>\n",
       "    </tr>\n",
       "  </thead>\n",
       "  <tbody>\n",
       "    <tr>\n",
       "      <th>Multi Vehicle</th>\n",
       "      <td>649379.0</td>\n",
       "      <td>1.345929</td>\n",
       "      <td>0.805006</td>\n",
       "      <td>1.0</td>\n",
       "      <td>1.0</td>\n",
       "      <td>1.0</td>\n",
       "      <td>1.0</td>\n",
       "      <td>68.0</td>\n",
       "    </tr>\n",
       "    <tr>\n",
       "      <th>Single Vehicle</th>\n",
       "      <td>11300.0</td>\n",
       "      <td>1.995575</td>\n",
       "      <td>1.457416</td>\n",
       "      <td>1.0</td>\n",
       "      <td>1.0</td>\n",
       "      <td>2.0</td>\n",
       "      <td>3.0</td>\n",
       "      <td>43.0</td>\n",
       "    </tr>\n",
       "  </tbody>\n",
       "</table>\n",
       "</div>"
      ],
      "text/plain": [
       "                   count      mean       std  min  25%  50%  75%   max\n",
       "Accident_Type                                                         \n",
       "Multi Vehicle   649379.0  1.345929  0.805006  1.0  1.0  1.0  1.0  68.0\n",
       "Single Vehicle   11300.0  1.995575  1.457416  1.0  1.0  2.0  3.0  43.0"
      ]
     },
     "execution_count": 34,
     "metadata": {},
     "output_type": "execute_result"
    }
   ],
   "source": [
    "casualties"
   ]
  },
  {
   "cell_type": "markdown",
   "id": "07d7dcde-3ee5-4876-9c8a-1605ffc0ecf5",
   "metadata": {},
   "source": [
    "<h3>Insight 2</h3>\n",
    "<p>There's a huge gap between the casualties of Multi-Vehicles against Single-Vehicles, indicating the bigger the surface the larger the impact.</p>"
   ]
  },
  {
   "cell_type": "code",
   "execution_count": 41,
   "id": "857ede73-7918-479c-a291-93efcf72c173",
   "metadata": {},
   "outputs": [
    {
     "data": {
      "image/png": "[encoded data removed]",
      "text/plain": [
       "<Figure size 1000x600 with 1 Axes>"
      ]
     },
     "metadata": {},
     "output_type": "display_data"
    }
   ],
   "source": [
    "road_accidents['Accident_Type'] = np.where(\n",
    "    road_accidents['Number_of_Vehicles'] == 1,\n",
    "    'Single Vehicle',\n",
    "    'Multi Vehicle'\n",
    ")\n",
    "\n",
    "casualty_counts = (\n",
    "    road_accidents.groupby(['Accident_Type', 'Number_of_Casualties'])\n",
    "    .size()\n",
    "    .unstack(fill_value=0)\n",
    ")\n",
    "\n",
    "casualty_counts = casualty_counts.loc[:, casualty_counts.columns <= 8]\n",
    "\n",
    "\n",
    "casualty_counts.T.plot(kind='bar', figsize=(10,6))\n",
    "\n",
    "plt.title(\"Distribution of Number of Casualties per Accident\")\n",
    "plt.xlabel(\"Number of Casualties\")\n",
    "plt.ylabel(\"Number of Accidents\")\n",
    "plt.xticks(rotation=0)\n",
    "plt.legend(title=\"Accident Type\")\n",
    "plt.show()"
   ]
  },
  {
   "cell_type": "markdown",
   "id": "74c37578-fc1a-4f32-8c43-d7020de91000",
   "metadata": {},
   "source": [
    "<h3>Insight 3</h3>\n",
    "<p>As the casualties grew in number, the larger the gap in between the two types of vehicles proving that the larger the vehicle the more damage it brought upon the vicinity of the area.</p>"
   ]
  },
  {
   "cell_type": "markdown",
   "id": "a799ed44-0305-47f2-845d-01feb01e750b",
   "metadata": {},
   "source": [
    "<h2>3. Frequency of Accidents between Daytime and Nighttime.</h2>"
   ]
  },
  {
   "cell_type": "code",
   "execution_count": 43,
   "id": "4b3c18eb-e149-470e-ad02-6c5018257ce3",
   "metadata": {},
   "outputs": [
    {
     "data": {
      "text/plain": [
       "Light_Conditions\n",
       "Daylight                       3876\n",
       "Darkness - lights lit          1410\n",
       "Darkness - no lighting         1200\n",
       "Darkness - lighting unknown      56\n",
       "Darkness - lights unlit          35\n",
       "dtype: int64"
      ]
     },
     "execution_count": 43,
     "metadata": {},
     "output_type": "execute_result"
    }
   ],
   "source": [
    "luminous = road_accidents[(road_accidents['Vehicle_Type'] == 'Car') & (road_accidents['Accident_Severity'] == 'Fatal')]\n",
    "luminous = luminous.groupby('Light_Conditions').size().sort_values(ascending=False)\n",
    "luminous"
   ]
  },
  {
   "cell_type": "markdown",
   "id": "3f0b2242-4c21-4109-8d54-0c18759fcb4f",
   "metadata": {},
   "source": [
    "<h2>Insight 4</h2>\n",
    "<p>In broad daylight more accidents occur than any time in the night.</p>\n",
    "\n",
    "<h2>Insight 5</h2>\n",
    "<p>There's a possibility that the roads in UK are well-litted during the nighttime resulting to lesser accidents, rather than broad daylight. We also need to consider the time of the day where the number of vehicles goes out for a ride ~possibly also indicating that there are less vehicles out there during the night.</p>"
   ]
  },
  {
   "cell_type": "markdown",
   "id": "6c183dc8-efbb-40a1-8bb1-b26443bf2d7d",
   "metadata": {},
   "source": [
    "<h3> 4. Which districts recorded the most accidents?</h3>"
   ]
  },
  {
   "cell_type": "code",
   "execution_count": 57,
   "id": "f6d5393c-6eb1-4913-9c89-57241cf5bfa0",
   "metadata": {},
   "outputs": [
    {
     "data": {
      "text/plain": [
       "District Area\n",
       "Birmingham            13491\n",
       "Leeds                  8898\n",
       "Manchester             6720\n",
       "Bradford               6212\n",
       "Sheffield              5710\n",
       "                      ...  \n",
       "Berwick-upon-Tweed      153\n",
       "Teesdale                142\n",
       "Shetland Islands        133\n",
       "Orkney Islands          117\n",
       "Clackmannanshire         91\n",
       "Name: count, Length: 422, dtype: int64"
      ]
     },
     "execution_count": 57,
     "metadata": {},
     "output_type": "execute_result"
    }
   ],
   "source": [
    "road_accidents['District Area'].value_counts()"
   ]
  },
  {
   "cell_type": "markdown",
   "id": "d2274fca-135d-4cbf-a6d1-b4768fb243bc",
   "metadata": {},
   "source": [
    "<h2>Insight 6</h2>\n",
    "<p>Birmingham District recorded the most accidents (13,491), significantly higher than the second and third districts which are Leeds (8,898) and Manchester (6,720).</p>"
   ]
  },
  {
   "cell_type": "markdown",
   "id": "7be92d5e-92d3-4c2c-af14-907d2b74ce4c",
   "metadata": {},
   "source": [
    "<h2>5. Road Accidents Between Days of the Week, Frequencies Between Lowest To Highest</h2>"
   ]
  },
  {
   "cell_type": "code",
   "execution_count": 55,
   "id": "4ef37095-2155-4fbd-a026-8b9d2884d016",
   "metadata": {},
   "outputs": [
    {
     "data": {
      "image/png": "[encoded data removed]",
      "text/plain": [
       "<Figure size 1000x600 with 1 Axes>"
      ]
     },
     "metadata": {},
     "output_type": "display_data"
    }
   ],
   "source": [
    "accidents_by_day.T.plot(kind='bar', figsize=(10,6))\n",
    "\n",
    "plt.title(\"Daily Accidents\")\n",
    "plt.xlabel(\"Days Of The Week(Sun-Sat)\")\n",
    "plt.ylabel(\"Number of Accidents\")\n",
    "plt.xticks(rotation=0)\n",
    "plt.legend(title=\"Accident Type\")\n",
    "plt.show()"
   ]
  },
  {
   "cell_type": "markdown",
   "id": "7ec8b359-e02d-41bf-8e63-a659c73c64d9",
   "metadata": {},
   "source": [
    "<h2>Insight 7</h2>\n",
    "<p>The 4 Year Record(2019-2022) of accidents ties up in Saturday(107178) where it possess the most accidents between any days of the week and Monday(72680) as the lowest.</p>\n",
    "\n",
    "<h2>Insight 8</h2>\n",
    "<p>Friday is associated with end of school/work days indicating vehicles are active in the road which leads to why it has the highest accident for vehicles are everywhere.Though Su</p>"
   ]
  },
  {
   "cell_type": "markdown",
   "id": "be1ff4c8-c18b-4f6a-bbe4-082eedfd8504",
   "metadata": {},
   "source": [
    "<h2>6. Casualties In The Days Of the Week</h2>"
   ]
  },
  {
   "cell_type": "code",
   "execution_count": 69,
   "id": "d5b7a10c-1866-4380-a4d2-b4d7a30167d1",
   "metadata": {},
   "outputs": [
    {
     "data": {
      "text/html": [
       "<div>\n",
       "<style scoped>\n",
       "    .dataframe tbody tr th:only-of-type {\n",
       "        vertical-align: middle;\n",
       "    }\n",
       "\n",
       "    .dataframe tbody tr th {\n",
       "        vertical-align: top;\n",
       "    }\n",
       "\n",
       "    .dataframe thead th {\n",
       "        text-align: right;\n",
       "    }\n",
       "</style>\n",
       "<table border=\"1\" class=\"dataframe\">\n",
       "  <thead>\n",
       "    <tr style=\"text-align: right;\">\n",
       "      <th></th>\n",
       "      <th>count</th>\n",
       "      <th>mean</th>\n",
       "      <th>std</th>\n",
       "      <th>min</th>\n",
       "      <th>25%</th>\n",
       "      <th>50%</th>\n",
       "      <th>75%</th>\n",
       "      <th>max</th>\n",
       "    </tr>\n",
       "    <tr>\n",
       "      <th>Accident_Type</th>\n",
       "      <th></th>\n",
       "      <th></th>\n",
       "      <th></th>\n",
       "      <th></th>\n",
       "      <th></th>\n",
       "      <th></th>\n",
       "      <th></th>\n",
       "      <th></th>\n",
       "    </tr>\n",
       "  </thead>\n",
       "  <tbody>\n",
       "    <tr>\n",
       "      <th>Multi Vehicle</th>\n",
       "      <td>459892.0</td>\n",
       "      <td>1.438294</td>\n",
       "      <td>0.898167</td>\n",
       "      <td>1.0</td>\n",
       "      <td>1.0</td>\n",
       "      <td>1.0</td>\n",
       "      <td>2.0</td>\n",
       "      <td>62.0</td>\n",
       "    </tr>\n",
       "    <tr>\n",
       "      <th>Single Vehicle</th>\n",
       "      <td>200787.0</td>\n",
       "      <td>1.170932</td>\n",
       "      <td>0.584175</td>\n",
       "      <td>1.0</td>\n",
       "      <td>1.0</td>\n",
       "      <td>1.0</td>\n",
       "      <td>1.0</td>\n",
       "      <td>68.0</td>\n",
       "    </tr>\n",
       "  </tbody>\n",
       "</table>\n",
       "</div>"
      ],
      "text/plain": [
       "                   count      mean       std  min  25%  50%  75%   max\n",
       "Accident_Type                                                         \n",
       "Multi Vehicle   459892.0  1.438294  0.898167  1.0  1.0  1.0  2.0  62.0\n",
       "Single Vehicle  200787.0  1.170932  0.584175  1.0  1.0  1.0  1.0  68.0"
      ]
     },
     "execution_count": 69,
     "metadata": {},
     "output_type": "execute_result"
    }
   ],
   "source": [
    "casualties = road_accidents.groupby('Accident_Type')['Number_of_Casualties'].describe()\n",
    "casualties"
   ]
  },
  {
   "cell_type": "code",
   "execution_count": 68,
   "id": "251d25b9-1837-4348-be57-206339d8fa8d",
   "metadata": {},
   "outputs": [
    {
     "data": {
      "text/plain": [
       "Accident Date\n",
       "5    107178\n",
       "2     99558\n",
       "3     99511\n",
       "4     97900\n",
       "1     94550\n",
       "6     89302\n",
       "0     72680\n",
       "Name: count, dtype: int64"
      ]
     },
     "execution_count": 68,
     "metadata": {},
     "output_type": "execute_result"
    }
   ],
   "source": [
    "road_accidents['Accident Date'] = pd.to_datetime(road_accidents['Accident Date'], dayfirst=True, errors='coerce')\n",
    "week = road_accidents['Day_of_Week'] = road_accidents['Accident Date'].dt.dayofweek\n",
    "week.value_counts()"
   ]
  },
  {
   "cell_type": "code",
   "execution_count": 64,
   "id": "1190a294-4f4b-49f4-9e48-ad8d96935d0b",
   "metadata": {},
   "outputs": [
    {
     "data": {
      "image/png": "[encoded data removed]",
      "text/plain": [
       "<Figure size 1000x600 with 1 Axes>"
      ]
     },
     "metadata": {},
     "output_type": "display_data"
    }
   ],
   "source": [
    "road_accidents['Accident Date'] = pd.to_datetime(road_accidents['Accident Date'], dayfirst=True, errors='coerce')\n",
    "road_accidents['Day_of_Week'] = road_accidents['Accident Date'].dt.dayofweek\n",
    "\n",
    "road_accidents['Accident_Type'] = np.where(\n",
    "    road_accidents['Number_of_Vehicles'] == 1,\n",
    "    'Single Vehicle',\n",
    "    'Multi Vehicle'\n",
    ")\n",
    "\n",
    "casualties_by_day = road_accidents.groupby(['Day_of_Week', 'Accident_Type'])['Number_of_Casualties'].sum().unstack(fill_value=0)\n",
    "\n",
    "day_labels = ['Mon','Tue','Wed','Thu','Fri','Sat','Sun']\n",
    "casualties_by_day.index = casualties_by_day.index.map(lambda x: day_labels[x])\n",
    "\n",
    "\n",
    "casualties_by_day.plot(kind='bar', figsize=(10,6))\n",
    "plt.title(\"Total Casualties by Day of Week and Accident Type\")\n",
    "plt.xlabel(\"Day of Week\")\n",
    "plt.ylabel(\"Total Number of Casualties\")\n",
    "plt.xticks(rotation=0)\n",
    "plt.legend(title=\"Accident Type\")\n",
    "plt.show()"
   ]
  },
  {
   "cell_type": "markdown",
   "id": "484c4571-59fa-42ab-9652-e067ccb34392",
   "metadata": {},
   "source": [
    "<h2>Insight 9</h2>\n",
    "<p>Multi-Vehicles has a huge gap between in terms of casualties than Single-Vehicles, any days in the week.</p>\n",
    "\n",
    "<h2>Insight 10</h2>\n",
    "<p>As said, Saturday has the most record of casualties in both Multi and Single Vehicles, Saturdays means a no_work day where people roams around to fix errands, joyful rides, it may ties up to this. </p>"
   ]
  },
  {
   "cell_type": "markdown",
   "id": "040111a9-3165-4a1f-be42-f6547b926f22",
   "metadata": {},
   "source": [
    "<h2> 7. Which vehicles are most often involved in deadly accidents?</h2>"
   ]
  },
  {
   "cell_type": "code",
   "execution_count": 47,
   "id": "1c62644a-db66-478b-8280-5eaf43f379ee",
   "metadata": {},
   "outputs": [],
   "source": [
    "vehicle_type = road_accidents['Vehicle_Type'].value_counts()"
   ]
  },
  {
   "cell_type": "code",
   "execution_count": 48,
   "id": "61fa77d7-e8a1-4636-9585-4381548853b6",
   "metadata": {},
   "outputs": [
    {
     "data": {
      "text/plain": [
       "Vehicle_Type\n",
       "Car                                      497992\n",
       "Van / Goods 3.5 tonnes mgw or under       34160\n",
       "Bus or coach (17 or more pass seats)      25878\n",
       "Motorcycle over 500cc                     25657\n",
       "Goods 7.5 tonnes mgw and over             17307\n",
       "Motorcycle 125cc and under                15269\n",
       "Taxi/Private hire car                     13294\n",
       "Motorcycle over 125cc and up to 500cc      7656\n",
       "Motorcycle 50cc and under                  7603\n",
       "Goods over 3.5t. and under 7.5t            6096\n",
       "Other vehicle                              5637\n",
       "Minibus (8 - 16 passenger seats)           1976\n",
       "Agricultural vehicle                       1947\n",
       "Pedal cycle                                 197\n",
       "Data missing or out of range                  6\n",
       "Ridden horse                                  4\n",
       "Name: count, dtype: int64"
      ]
     },
     "execution_count": 48,
     "metadata": {},
     "output_type": "execute_result"
    }
   ],
   "source": [
    "vehicle_type"
   ]
  },
  {
   "cell_type": "markdown",
   "id": "606eb356-a056-47ff-9488-bd1e1b82c51e",
   "metadata": {},
   "source": [
    "<h3>Insight 11</h3>\n",
    "<p>Car has the most number of cases when it comes to fatal accidents</p>\n"
   ]
  },
  {
   "cell_type": "markdown",
   "id": "bd0e5cd0-f9bd-4be4-a53d-e438b4e922e4",
   "metadata": {},
   "source": [
    "<h3> 8. Which road type is most frequently associated with accidents?</h3>"
   ]
  },
  {
   "cell_type": "code",
   "execution_count": 10,
   "id": "8699d331-6f5d-4be8-bbdb-00a97d2a728c",
   "metadata": {},
   "outputs": [
    {
     "data": {
      "text/plain": [
       "Road_Surface_Conditions\n",
       "Dry                     447821\n",
       "Wet or damp             186708\n",
       "Frost or ice             18517\n",
       "Snow                      5890\n",
       "Flood over 3cm. deep      1017\n",
       "Name: count, dtype: int64"
      ]
     },
     "execution_count": 10,
     "metadata": {},
     "output_type": "execute_result"
    }
   ],
   "source": [
    "road_accidents['Road_Surface_Conditions'].value_counts()"
   ]
  },
  {
   "cell_type": "markdown",
   "id": "b3fd36f5-8bb7-4962-8ff0-1de59dfa3f73",
   "metadata": {},
   "source": [
    "<h3>Insight 12</h3>\n",
    "<p>Dry roads has the highest cases of accidents which is 68% percent of the total number accidents that happen in the UK for over 4 years.</p>"
   ]
  },
  {
   "cell_type": "markdown",
   "id": "5b0df474-a3c1-41ec-b22e-96d6f3544ac6",
   "metadata": {},
   "source": [
    "<h2>9. Number Of Accidents In Rural and Urban Areas </h2>"
   ]
  },
  {
   "cell_type": "code",
   "execution_count": 72,
   "id": "b414caca-fc38-4f76-a749-c1f10e69d3ef",
   "metadata": {},
   "outputs": [
    {
     "data": {
      "text/plain": [
       "Urban_or_Rural_Area\n",
       "Rural          238990\n",
       "Unallocated        11\n",
       "Urban          421663\n",
       "dtype: int64"
      ]
     },
     "execution_count": 72,
     "metadata": {},
     "output_type": "execute_result"
    }
   ],
   "source": [
    "accidents_area = road_accidents.groupby('Urban_or_Rural_Area').size()\n",
    "accidents_area"
   ]
  },
  {
   "cell_type": "markdown",
   "id": "073c2044-9bda-4854-81bb-9382a9a414b8",
   "metadata": {},
   "source": [
    "<h3>Insight 13</h3>\n",
    "<p>.There are 238990 cases in Rural, 421663 in Urban, and 11 unallocated cases. The road type seems to have a correlation with this situation.</p>"
   ]
  },
  {
   "cell_type": "markdown",
   "id": "9ac39396-c8d6-4117-9a01-e497e177e004",
   "metadata": {},
   "source": [
    "<h2>10. Correlating Road Types To Different Area Cases</h2>"
   ]
  },
  {
   "cell_type": "code",
   "execution_count": 73,
   "id": "b379f436-773f-498e-96f4-9ecb0c2c1088",
   "metadata": {},
   "outputs": [
    {
     "data": {
      "image/png": "[encoded data removed]",
      "text/plain": [
       "<Figure size 1000x600 with 1 Axes>"
      ]
     },
     "metadata": {},
     "output_type": "display_data"
    }
   ],
   "source": [
    "roadtype_distribution = (\n",
    "    road_accidents.groupby(['Urban_or_Rural_Area', 'Road_Type'])\n",
    "    .size()\n",
    "    .unstack(fill_value=0)\n",
    ")\n",
    "\n",
    "roadtype_distribution.plot(kind='bar', figsize=(10,6))\n",
    "\n",
    "plt.title(\"Accident Cases by Area (Urban vs Rural) and Road Type\")\n",
    "plt.xlabel(\"Area Type\")\n",
    "plt.ylabel(\"Number of Accidents\")\n",
    "plt.xticks(rotation=0)\n",
    "plt.legend(title=\"Road Type\")\n",
    "plt.show()"
   ]
  },
  {
   "cell_type": "markdown",
   "id": "abb3e1c8-6aaf-429a-81d6-82da867c11af",
   "metadata": {},
   "source": [
    "<h2>Insight 14</h2>\n",
    "<p>Urban areas are dominated by single carriageway accidents.\n",
    "Since cities have dense road networks and heavy traffic, the majority of reported accidents in urban areas tend to occur on single carriageways, often at intersections or congested stretches.</p>\n",
    "\n",
    "<h2>Insight 15</h2>\n",
    "<p>Friday is associated with end of school/work days indicating vehicles are active in the road which leads to why it has the highest accident for vehicles are everywhere.Though Su</p>\n",
    "\n",
    "<h2>Insight 16</h2>\n",
    "<p>Roundabout and junction accidents are more “urban-heavy.”\n",
    "Road types like roundabouts or slip roads are more common in cities and suburbs, so accidents on these types are concentrated in urban data — whereas in rural data, these categories might appear much smaller or even negligible.</p>"
   ]
  },
  {
   "cell_type": "markdown",
   "id": "7ec99296-f23f-4216-adfe-db28a71e8546",
   "metadata": {},
   "source": [
    "<h2>11. Which Weather Condition Primarily Triggers Accidents?</h2>"
   ]
  },
  {
   "cell_type": "code",
   "execution_count": 77,
   "id": "d864a3ce-3731-492d-a575-4879b0a88631",
   "metadata": {},
   "outputs": [
    {
     "data": {
      "text/plain": [
       "Weather_Conditions\n",
       "Fine no high winds       520885\n",
       "Raining no high winds     79696\n",
       "Other                     17150\n",
       "Raining + high winds       9615\n",
       "Fine + high winds          8554\n",
       "Snowing no high winds      6238\n",
       "Fog or mist                3528\n",
       "Snowing + high winds        885\n",
       "Name: count, dtype: int64"
      ]
     },
     "execution_count": 77,
     "metadata": {},
     "output_type": "execute_result"
    }
   ],
   "source": [
    "road_accidents['Weather_Conditions'].value_counts()"
   ]
  },
  {
   "cell_type": "markdown",
   "id": "eda1e11e-7942-48e0-bfc2-046c55abc465",
   "metadata": {},
   "source": [
    "<h3>Insight 17</h3>\n",
    "<p>Even there are no weather condition to affect the driver, the most number of cases comes from Fine Weather(520885) which is 78% of the total accidents. </p>"
   ]
  },
  {
   "cell_type": "markdown",
   "id": "0b22b1ca-09b2-4e05-a1fe-d2b8b2170d6d",
   "metadata": {},
   "source": [
    "<h3> 12. Which Year Brings a lot of accidents?</h3>"
   ]
  },
  {
   "cell_type": "code",
   "execution_count": 79,
   "id": "a62e70ad-064b-48ca-af43-fe821146a99d",
   "metadata": {},
   "outputs": [
    {
     "data": {
      "text/plain": [
       "Accident Date\n",
       "2019    182115\n",
       "2020    170591\n",
       "2021    163554\n",
       "2022    144419\n",
       "Name: count, dtype: int64"
      ]
     },
     "execution_count": 79,
     "metadata": {},
     "output_type": "execute_result"
    }
   ],
   "source": [
    "road_accidents['Accident Date'].dt.year.value_counts().sort_values(ascending=False)"
   ]
  },
  {
   "cell_type": "markdown",
   "id": "6eb55f1e-9584-4463-91be-4e93f5297d68",
   "metadata": {},
   "source": [
    "<h3>Insight 18.</h3>\n",
    "<p>In the year 2019, a total of 182115 accidents occured, yet brought a little decline of accidents in the consecutive years ~even though Pandemic happened</p>"
   ]
  },
  {
   "cell_type": "markdown",
   "id": "27264e0d-6a8f-44b0-a2c9-5a02fa83eb5f",
   "metadata": {},
   "source": [
    "<h2>Who is the most gifted during Christmas?</h2>"
   ]
  },
  {
   "cell_type": "code",
   "execution_count": 85,
   "id": "21065925-407b-4117-af53-570bd242f02e",
   "metadata": {},
   "outputs": [
    {
     "data": {
      "text/plain": [
       "District Area\n",
       "Birmingham            1097\n",
       "Leeds                  702\n",
       "Manchester             513\n",
       "Bradford               505\n",
       "Sheffield              484\n",
       "                      ... \n",
       "Western Isles           10\n",
       "Orkney Islands          10\n",
       "Berwick-upon-Tweed      10\n",
       "Teesdale                 9\n",
       "Clackmannanshire         5\n",
       "Name: count, Length: 422, dtype: int64"
      ]
     },
     "execution_count": 85,
     "metadata": {},
     "output_type": "execute_result"
    }
   ],
   "source": [
    "christmas_gifts = road_accidents[road_accidents['Accident Date'].dt.month == 12]\n",
    "christmas_gifts['District Area'].value_counts().sort_values(ascending=False)"
   ]
  },
  {
   "cell_type": "markdown",
   "id": "ce837345-b643-49c4-acab-db15029ca8b3",
   "metadata": {},
   "source": [
    "<h3>Insight 19</h3>\n",
    "<p>We can say that the Birminghan District celebrates a lot, there are over 1000 cases of accidents during the month of December.</p>"
   ]
  },
  {
   "cell_type": "markdown",
   "id": "803f54fe-2ef0-4a37-b468-daa8fcbf8aa4",
   "metadata": {},
   "source": [
    "<h2>13.Monthly Tracking Of Accidents from 2019 to 2022</h2>"
   ]
  },
  {
   "cell_type": "code",
   "execution_count": 96,
   "id": "9fdc6440-f702-4822-aa63-0949cfaace88",
   "metadata": {},
   "outputs": [
    {
     "data": {
      "text/html": [
       "<div>\n",
       "<style scoped>\n",
       "    .dataframe tbody tr th:only-of-type {\n",
       "        vertical-align: middle;\n",
       "    }\n",
       "\n",
       "    .dataframe tbody tr th {\n",
       "        vertical-align: top;\n",
       "    }\n",
       "\n",
       "    .dataframe thead th {\n",
       "        text-align: right;\n",
       "    }\n",
       "</style>\n",
       "<table border=\"1\" class=\"dataframe\">\n",
       "  <thead>\n",
       "    <tr style=\"text-align: right;\">\n",
       "      <th>Month</th>\n",
       "      <th>1</th>\n",
       "      <th>2</th>\n",
       "      <th>3</th>\n",
       "      <th>4</th>\n",
       "      <th>5</th>\n",
       "      <th>6</th>\n",
       "      <th>7</th>\n",
       "      <th>8</th>\n",
       "      <th>9</th>\n",
       "      <th>10</th>\n",
       "      <th>11</th>\n",
       "      <th>12</th>\n",
       "    </tr>\n",
       "    <tr>\n",
       "      <th>Year</th>\n",
       "      <th></th>\n",
       "      <th></th>\n",
       "      <th></th>\n",
       "      <th></th>\n",
       "      <th></th>\n",
       "      <th></th>\n",
       "      <th></th>\n",
       "      <th></th>\n",
       "      <th></th>\n",
       "      <th></th>\n",
       "      <th></th>\n",
       "      <th></th>\n",
       "    </tr>\n",
       "  </thead>\n",
       "  <tbody>\n",
       "    <tr>\n",
       "      <th>2019</th>\n",
       "      <td>15355</td>\n",
       "      <td>13253</td>\n",
       "      <td>15049</td>\n",
       "      <td>14125</td>\n",
       "      <td>15833</td>\n",
       "      <td>15528</td>\n",
       "      <td>15862</td>\n",
       "      <td>15044</td>\n",
       "      <td>15271</td>\n",
       "      <td>15528</td>\n",
       "      <td>16559</td>\n",
       "      <td>14708</td>\n",
       "    </tr>\n",
       "    <tr>\n",
       "      <th>2020</th>\n",
       "      <td>14133</td>\n",
       "      <td>14353</td>\n",
       "      <td>13494</td>\n",
       "      <td>13394</td>\n",
       "      <td>14336</td>\n",
       "      <td>14205</td>\n",
       "      <td>14630</td>\n",
       "      <td>13366</td>\n",
       "      <td>14432</td>\n",
       "      <td>15684</td>\n",
       "      <td>14770</td>\n",
       "      <td>13794</td>\n",
       "    </tr>\n",
       "    <tr>\n",
       "      <th>2021</th>\n",
       "      <td>13417</td>\n",
       "      <td>10950</td>\n",
       "      <td>13202</td>\n",
       "      <td>12715</td>\n",
       "      <td>13811</td>\n",
       "      <td>13936</td>\n",
       "      <td>14300</td>\n",
       "      <td>13415</td>\n",
       "      <td>13792</td>\n",
       "      <td>14834</td>\n",
       "      <td>15473</td>\n",
       "      <td>13709</td>\n",
       "    </tr>\n",
       "    <tr>\n",
       "      <th>2022</th>\n",
       "      <td>9967</td>\n",
       "      <td>10935</td>\n",
       "      <td>12341</td>\n",
       "      <td>11510</td>\n",
       "      <td>12372</td>\n",
       "      <td>12812</td>\n",
       "      <td>12653</td>\n",
       "      <td>12088</td>\n",
       "      <td>12960</td>\n",
       "      <td>13534</td>\n",
       "      <td>13622</td>\n",
       "      <td>9625</td>\n",
       "    </tr>\n",
       "  </tbody>\n",
       "</table>\n",
       "</div>"
      ],
      "text/plain": [
       "Month     1      2      3      4      5      6      7      8      9      10  \\\n",
       "Year                                                                          \n",
       "2019   15355  13253  15049  14125  15833  15528  15862  15044  15271  15528   \n",
       "2020   14133  14353  13494  13394  14336  14205  14630  13366  14432  15684   \n",
       "2021   13417  10950  13202  12715  13811  13936  14300  13415  13792  14834   \n",
       "2022    9967  10935  12341  11510  12372  12812  12653  12088  12960  13534   \n",
       "\n",
       "Month     11     12  \n",
       "Year                 \n",
       "2019   16559  14708  \n",
       "2020   14770  13794  \n",
       "2021   15473  13709  \n",
       "2022   13622   9625  "
      ]
     },
     "execution_count": 96,
     "metadata": {},
     "output_type": "execute_result"
    }
   ],
   "source": [
    "monthly_accidents = road_accidents.groupby(['Year', 'Month']).size().unstack()\n",
    "monthly_accidents"
   ]
  },
  {
   "cell_type": "markdown",
   "id": "adc5a96b-78c1-4459-ae17-8de16c1e8ff5",
   "metadata": {},
   "source": [
    "<h3>Insight 19</h3>\n",
    "<p>Way back in 2019 the Pandemic started in the month of December, December 2019 also has the least number of accidents implying that Covid-19 greatly affected road accidents.</p>\n",
    "\n",
    "<h3>Insight 20</h3>\n",
    "<p>As the lockdown intensifies worldwide, there are lesser accidents in the year 2020-2021 than before 2019.</p>\n",
    "\n",
    "<h3>Insight 21</h3>\n",
    "<p>In the year 2022, the worldwide lockdown softens leading to people going out more often. Though in the year 2022, it has the least total accidents in UK.</p>"
   ]
  },
  {
   "cell_type": "markdown",
   "id": "35b52468-0f7d-45d1-a67f-533e9ca0445b",
   "metadata": {},
   "source": [
    "<h2>14. UK 2022, Car Accidents on Different Roads</h2>"
   ]
  },
  {
   "cell_type": "code",
   "execution_count": 99,
   "id": "c9d02b01-269e-4e7b-a2b0-dd7542d8bbdb",
   "metadata": {},
   "outputs": [
    {
     "data": {
      "text/plain": [
       "Road_Type\n",
       "Dual carriageway      16954\n",
       "One way street         2320\n",
       "Roundabout             7858\n",
       "Single carriageway    85781\n",
       "Slip road              1210\n",
       "dtype: int64"
      ]
     },
     "execution_count": 99,
     "metadata": {},
     "output_type": "execute_result"
    }
   ],
   "source": [
    "acc_22 = road_accidents[road_accidents['Year'] == 2022]\n",
    "\n",
    "car_accidents = acc_22[acc_22[\"Vehicle_Type\"].str.contains(\"Car\", case=False, na=False)]\n",
    "car_road_types = car_accidents.groupby(\"Road_Type\").size()\n",
    "car_road_types"
   ]
  },
  {
   "cell_type": "markdown",
   "id": "b2c6fe73-9a59-4ed9-9627-624c25a9bc56",
   "metadata": {},
   "source": [
    "<h3>Insight 22</h3>\n",
    "<p>In the year 2022, the Single Carriageway roads has the most recorded accidents summing up to 85781 or 75% of the total accidents.</p>\n",
    "\n",
    "<h3>Insight 23</h3>\n",
    "<P>Slip lane(1210) has the least number of cases, regarding this road type would explain it. Slip roads are roads that serves as shortcut straight to the main road, and this roads/lanes has always speed limit and not that busy.</P>"
   ]
  },
  {
   "cell_type": "markdown",
   "id": "f6aa96d4-2220-4596-9c1b-8a958045a471",
   "metadata": {},
   "source": [
    "<h2>15.Analyzing The Severity of Accidents between 2019 and 2022.</h2>"
   ]
  },
  {
   "cell_type": "code",
   "execution_count": 103,
   "id": "13910847-af33-40c3-8147-999652ee0743",
   "metadata": {},
   "outputs": [
    {
     "data": {
      "text/html": [
       "<div>\n",
       "<style scoped>\n",
       "    .dataframe tbody tr th:only-of-type {\n",
       "        vertical-align: middle;\n",
       "    }\n",
       "\n",
       "    .dataframe tbody tr th {\n",
       "        vertical-align: top;\n",
       "    }\n",
       "\n",
       "    .dataframe thead th {\n",
       "        text-align: right;\n",
       "    }\n",
       "</style>\n",
       "<table border=\"1\" class=\"dataframe\">\n",
       "  <thead>\n",
       "    <tr style=\"text-align: right;\">\n",
       "      <th></th>\n",
       "      <th>2019</th>\n",
       "      <th>2022</th>\n",
       "      <th>Change (%)</th>\n",
       "    </tr>\n",
       "    <tr>\n",
       "      <th>Accident_Severity</th>\n",
       "      <th></th>\n",
       "      <th></th>\n",
       "      <th></th>\n",
       "    </tr>\n",
       "  </thead>\n",
       "  <tbody>\n",
       "    <tr>\n",
       "      <th>Slight</th>\n",
       "      <td>85.154435</td>\n",
       "      <td>85.925675</td>\n",
       "      <td>0.771239</td>\n",
       "    </tr>\n",
       "    <tr>\n",
       "      <th>Serious</th>\n",
       "      <td>13.355297</td>\n",
       "      <td>13.001752</td>\n",
       "      <td>-0.353546</td>\n",
       "    </tr>\n",
       "    <tr>\n",
       "      <th>Fatal</th>\n",
       "      <td>1.490267</td>\n",
       "      <td>1.072574</td>\n",
       "      <td>-0.417694</td>\n",
       "    </tr>\n",
       "  </tbody>\n",
       "</table>\n",
       "</div>"
      ],
      "text/plain": [
       "                        2019       2022  Change (%)\n",
       "Accident_Severity                                  \n",
       "Slight             85.154435  85.925675    0.771239\n",
       "Serious            13.355297  13.001752   -0.353546\n",
       "Fatal               1.490267   1.072574   -0.417694"
      ]
     },
     "execution_count": 103,
     "metadata": {},
     "output_type": "execute_result"
    }
   ],
   "source": [
    "severity_2019 = road_accidents[road_accidents['Year']==2019]['Accident_Severity'].value_counts(normalize=True) * 100\n",
    "severity_2022 = road_accidents[road_accidents['Year']==2022]['Accident_Severity'].value_counts(normalize=True) * 100\n",
    "compared = pd.DataFrame({\"2019\": severity_2019, \"2022\": severity_2022, \"Change (%)\": severity_2022 - severity_2019})\n",
    "compared"
   ]
  },
  {
   "cell_type": "markdown",
   "id": "d3286b26-e2b6-4cca-a779-aa85ed828a70",
   "metadata": {},
   "source": [
    "<h3>Insight 24</h3>\n",
    "<p>Most of the accidents are considered Slight filling up to 85% of the total accidents, 13% for Serious, and 1% for both 2019 and 2022 Accidents.</p>\n",
    "\n",
    "<h3>Insight 25</h3>\n",
    "<P>There's a small incline of change in Slight cases and a decline in Serious and Fatal Cases in the year 2022, which may indicate the improvement of road safety and awareness.</P>"
   ]
  }
 ],
 "metadata": {
  "kernelspec": {
   "display_name": "Python 3 (ipykernel)",
   "language": "python",
   "name": "python3"
  },
  "language_info": {
   "codemirror_mode": {
    "name": "ipython",
    "version": 3
   },
   "file_extension": ".py",
   "mimetype": "text/x-python",
   "name": "python",
   "nbconvert_exporter": "python",
   "pygments_lexer": "ipython3",
   "version": "3.13.7"
  }
 },
 "nbformat": 4,
 "nbformat_minor": 5
}
